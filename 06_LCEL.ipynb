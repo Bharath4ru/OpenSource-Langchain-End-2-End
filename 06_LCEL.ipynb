{
 "cells": [
  {
   "cell_type": "code",
   "execution_count": 1,
   "metadata": {},
   "outputs": [],
   "source": [
    "import os\n",
    "from dotenv import load_dotenv, find_dotenv\n",
    "_ = load_dotenv(find_dotenv())\n"
   ]
  },
  {
   "cell_type": "code",
   "execution_count": 2,
   "metadata": {},
   "outputs": [],
   "source": [
    "from langchain_google_genai import ChatGoogleGenerativeAI\n",
    "\n",
    "chatModel = ChatGoogleGenerativeAI(model=\"gemini-1.5-pro\")"
   ]
  },
  {
   "cell_type": "code",
   "execution_count": 3,
   "metadata": {},
   "outputs": [],
   "source": [
    "from langchain_core.output_parsers import StrOutputParser\n",
    "from langchain_core.prompts import ChatPromptTemplate\n",
    "\n",
    "prompt = ChatPromptTemplate.from_template(\"tell me a curious fact about {politician}\")\n",
    "\n",
    "chain = prompt | chatModel | StrOutputParser()"
   ]
  },
  {
   "cell_type": "code",
   "execution_count": 5,
   "metadata": {},
   "outputs": [
    {
     "data": {
      "text/plain": [
       "'YSR Jagan Mohan Reddy holds the unusual distinction of being the only chief minister in Andhra Pradesh history to have taken the oath of office outside the traditional venue of Raj Bhavan.  He was sworn in at Indira Gandhi Municipal Stadium in Vijayawada in 2019.'"
      ]
     },
     "execution_count": 5,
     "metadata": {},
     "output_type": "execute_result"
    }
   ],
   "source": [
    "chain.invoke({\"politician\": \"YSR Jagan \"})"
   ]
  },
  {
   "cell_type": "markdown",
   "metadata": {},
   "source": [
    "# lagecy chain"
   ]
  },
  {
   "cell_type": "code",
   "execution_count": 7,
   "metadata": {},
   "outputs": [
    {
     "data": {
      "text/plain": [
       "'KL Rahul has the second-highest individual score in T20Is for India (110*).  This was achieved against West Indies in Lauderhill, USA, in August 2016.  Only Rohit Sharma (118 vs Sri Lanka) has a higher score for India in T20Is.'"
      ]
     },
     "execution_count": 7,
     "metadata": {},
     "output_type": "execute_result"
    }
   ],
   "source": [
    "from langchain.chains import LLMChain\n",
    "\n",
    "prompt = ChatPromptTemplate.from_template(\"tell me a Stats fact about {cricket_player}\")\n",
    "\n",
    "traditional_chain = LLMChain(\n",
    "    llm=chatModel,\n",
    "    prompt=prompt\n",
    ")\n",
    "\n",
    "traditional_chain.predict(cricket_player=\"KL Rahul\")"
   ]
  },
  {
   "cell_type": "code",
   "execution_count": 8,
   "metadata": {},
   "outputs": [
    {
     "data": {
      "text/plain": [
       "'Virat Kohli is the fastest player to reach 12,000 runs in One Day International (ODI) cricket. He achieved this feat in just 242 innings, significantly faster than any other player in history.'"
      ]
     },
     "execution_count": 8,
     "metadata": {},
     "output_type": "execute_result"
    }
   ],
   "source": [
    "chain = prompt | chatModel | StrOutputParser()\n",
    "\n",
    "chain.invoke({\"cricket_player\": \"Virat Kohli\"})"
   ]
  },
  {
   "cell_type": "code",
   "execution_count": 10,
   "metadata": {},
   "outputs": [
    {
     "data": {
      "text/plain": [
       "'MS Dhoni holds the record for most stumpings in international cricket across all formats, with a staggering 195 dismissals. This demonstrates his incredible speed and agility behind the stumps.'"
      ]
     },
     "execution_count": 10,
     "metadata": {},
     "output_type": "execute_result"
    }
   ],
   "source": [
    "prompt = ChatPromptTemplate.from_template(\"tell me a curious fact about {cricket_player}\")\n",
    "\n",
    "output_parser = StrOutputParser()\n",
    "\n",
    "chain = prompt | chatModel | output_parser\n",
    "\n",
    "chain.invoke({\"cricket_player\": \"Dhoni\"})"
   ]
  },
  {
   "cell_type": "code",
   "execution_count": 11,
   "metadata": {},
   "outputs": [
    {
     "name": "stdout",
     "output_type": "stream",
     "text": [
      "A curious fact about Kane Williamson is that despite being one of the best batsmen of his generation, and a highly successful captain, he **doesn't have an endorsement deal with a major bat manufacturer**.  He's known for using bats with stickers removed or covered, often preferring unbranded or locally made bats. This is highly unusual for a player of his caliber and makes him something of an anomaly in the modern, commercially driven world of cricket."
     ]
    }
   ],
   "source": [
    "for s in chain.stream({\"cricket_player\": \"Kane Willamson\"}):\n",
    "    print(s, end=\"\", flush=True)"
   ]
  },
  {
   "cell_type": "code",
   "execution_count": 14,
   "metadata": {},
   "outputs": [],
   "source": [
    "a=chain.batch([{\"cricket_player\": \"Rohit Sharma\"}, {\"cricket_player\": \"Gayle\"}])"
   ]
  },
  {
   "cell_type": "code",
   "execution_count": 15,
   "metadata": {},
   "outputs": [
    {
     "data": {
      "text/plain": [
       "['Rohit Sharma holds the world record for the highest individual score in a One Day International (ODI) match. He scored a staggering 264 runs against Sri Lanka in 2014.',\n",
       " 'While Gayle\\'s a common name and could refer to many people,  it\\'s hard to pinpoint a \"curious fact\" without knowing *which* Gayle you\\'re referring to.  For example, are you thinking of the singer Crystal Gayle, the cricketer Chris Gayle, or someone else entirely?  If you can provide more context, I can give you a more specific and interesting answer.']"
      ]
     },
     "execution_count": 15,
     "metadata": {},
     "output_type": "execute_result"
    }
   ],
   "source": [
    "a"
   ]
  },
  {
   "cell_type": "code",
   "execution_count": 13,
   "metadata": {},
   "outputs": [
    {
     "data": {
      "text/plain": [
       "['A curious fact about the Hill of Crosses (Kryžių kalnas) in Lithuania, often referred to as Stonis (plural: Stonys - little stones, referring to the pebbles placed there originally), is that despite its strong association with Catholicism and Lithuanian national identity, **it was repeatedly bulldozed by Soviet authorities during the Soviet occupation**.  Despite these attempts to eradicate it, the crosses kept reappearing, sometimes overnight, demonstrating the powerful symbolic importance of the site for the Lithuanian people as a form of passive resistance.  This persistence in the face of oppression adds another layer of meaning to the already fascinating site.',\n",
       " 'There isn\\'t a widely known individual or entity simply called \"Jampa.\"  \"Jampa\" (བྱམས་པ་) is a Tibetan word meaning \"loving-kindness\" or \"friend.\"  It\\'s frequently used as part of names, such as \"Tenzing Jampa\" or as a title in religious contexts.\\n\\nTherefore, there\\'s no single \"Jampa\" about whom to share a curious fact.  \\n\\nIf you\\'re thinking of a specific person or thing with \"Jampa\" in the name, please provide more context so I can offer a more relevant response.']"
      ]
     },
     "execution_count": 13,
     "metadata": {},
     "output_type": "execute_result"
    }
   ],
   "source": []
  }
 ],
 "metadata": {
  "kernelspec": {
   "display_name": "base",
   "language": "python",
   "name": "python3"
  },
  "language_info": {
   "codemirror_mode": {
    "name": "ipython",
    "version": 3
   },
   "file_extension": ".py",
   "mimetype": "text/x-python",
   "name": "python",
   "nbconvert_exporter": "python",
   "pygments_lexer": "ipython3",
   "version": "3.12.3"
  }
 },
 "nbformat": 4,
 "nbformat_minor": 2
}
