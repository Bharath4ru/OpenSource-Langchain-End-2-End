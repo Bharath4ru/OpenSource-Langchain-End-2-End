{
 "cells": [
  {
   "cell_type": "code",
   "execution_count": 2,
   "metadata": {},
   "outputs": [],
   "source": [
    "import warnings\n",
    "warnings.filterwarnings('ignore')\n"
   ]
  },
  {
   "cell_type": "code",
   "execution_count": 3,
   "metadata": {},
   "outputs": [
    {
     "data": {
      "text/plain": [
       "True"
      ]
     },
     "execution_count": 3,
     "metadata": {},
     "output_type": "execute_result"
    }
   ],
   "source": [
    "import os\n",
    "from dotenv import load_dotenv\n",
    "load_dotenv()"
   ]
  },
  {
   "cell_type": "code",
   "execution_count": 4,
   "metadata": {},
   "outputs": [],
   "source": [
    "from langchain_groq import ChatGroq\n",
    "\n",
    "llamaChatModel = ChatGroq(\n",
    "    model=\"deepseek-r1-distill-llama-70b\"\n",
    ")"
   ]
  },
  {
   "cell_type": "code",
   "execution_count": 5,
   "metadata": {},
   "outputs": [],
   "source": [
    "mistralChatModel = ChatGroq(\n",
    "    model=\"mixtral-8x7b-32768\"\n",
    ")"
   ]
  },
  {
   "cell_type": "code",
   "execution_count": 6,
   "metadata": {},
   "outputs": [],
   "source": [
    "messages = [\n",
    "    (\"system\", \"you are expert in cricket history\"),\n",
    "    (\"human\", \"list all stats of KL Rahul\"),\n",
    "]"
   ]
  },
  {
   "cell_type": "code",
   "execution_count": 7,
   "metadata": {},
   "outputs": [],
   "source": [
    "llamaResponse = llamaChatModel.invoke(messages)"
   ]
  },
  {
   "cell_type": "code",
   "execution_count": 8,
   "metadata": {},
   "outputs": [
    {
     "name": "stdout",
     "output_type": "stream",
     "text": [
      "<think>\n",
      "Okay, so I need to list all the stats of KL Rahul. Hmm, where do I start? I remember that KL Rahul is an Indian cricketer, so I should probably break down his stats by each format he's played in—like Tests, ODIs, T20Is, and maybe even IPL since he's been involved in that too.\n",
      "\n",
      "First, I should figure out his batting stats. That means things like matches played, innings, runs scored, highest score, average, strike rate, centuries, half-centuries. Oh, and maybe his bowling stats too, although I think he's primarily a batsman. Wait, does he bowl? I think he's occasionally used as a part-time bowler, so I should check that.\n",
      "\n",
      "For Tests, I think he made his debut around 2014. Let me recall, he scored a century on debut, I believe. Maybe against Australia? As for his total runs, I'm not sure of the exact number, but I think he's in the range of 2,500 to 3,000 runs. His average is probably around 35, but I'm not certain. He has a few centuries, maybe 5 or 6? I remember him scoring a 199 once, so that's his highest score.\n",
      "\n",
      "Moving to ODIs, he started around 2015 if I'm not wrong. His runs total might be around 1,500 to 2,000. Average could be mid-30s. Strike rate in ODIs is probably around 80. He might have a couple of centuries and several fifties. Maybe one or two hundreds?\n",
      "\n",
      "T20Is would have a lower number of matches, maybe around 50 or so. Runs might be in the 1,500 range. His strike rate here is probably higher, maybe around 135. He might have a couple of fifties but I don't recall him hitting many centuries in T20Is.\n",
      "\n",
      "IPL stats are important too. He plays for Lucknow Super Giants now, but before that, he was with Punjab. His total runs would be substantial, maybe around 3,000 runs. Average and strike rate would be higher in IPL, maybe averaging around 40 with a strike rate of 130+. He might have a century in IPL, perhaps more.\n",
      "\n",
      "Bowling stats: He's not a regular bowler, so maybe just a few wickets across all formats. Maybe 2-3 wickets in Tests, a couple in ODIs, and one or two in T20Is.\n",
      "\n",
      "Awards and records: He might have won some Player of the Series awards. Also, he was the highest scorer in the IPL once, maybe in 2020 or 2021. I think he's also the fastest Indian to reach 1,000 runs in T20Is.\n",
      "\n",
      "Personal info: Born in 1992, in Bangalore. His full name is Kannaur Lokesh Rahul. Nickname is KL. He bats right-handed and sometimes keeps wicket, especially in white-ball formats.\n",
      "\n",
      "I should make sure all these stats are accurate. Maybe I'm mixing up some numbers, so I need to present them clearly without any confusion. Also, I should organize them by each format for clarity.\n",
      "</think>\n",
      "\n",
      "**KL Rahul's Cricket Statistics and Profile**\n",
      "\n",
      "**Personal Information:**\n",
      "- Full Name: Kannaur Lokesh Rahul\n",
      "- Nickname: KL\n",
      "- Date of Birth: April 18, 1992\n",
      "- Place of Birth: Bangalore, Karnataka, India\n",
      "- Batting Style: Right-handed\n",
      "- Role: Batsman, occasional Wicket-keeper\n",
      "\n",
      "**International Cricket Statistics:**\n",
      "\n",
      "1. **Test Cricket:**\n",
      "   - Matches: 46\n",
      "   - Innings: 78\n",
      "   - Runs: 2,758\n",
      "   - Highest Score: 199\n",
      "   - Centuries: 5\n",
      "   - Half-Centuries: 14\n",
      "   - Batting Average: ~34.35\n",
      "   - Debut: December 26, 2014, vs. Australia\n",
      "\n",
      "2. **One-Day Internationals (ODIs):**\n",
      "   - Matches: 48\n",
      "   - Innings: 43\n",
      "   - Runs: 1,535\n",
      "   - Highest Score: 111\n",
      "   - Centuries: 3\n",
      "   - Half-Centuries: 8\n",
      "   - Batting Average: ~39.54\n",
      "   - Strike Rate: ~80.58\n",
      "   - Debut: June 11, 2015, vs. Zimbabwe\n",
      "\n",
      "3. **Twenty20 Internationals (T20Is):**\n",
      "   - Matches: 72\n",
      "   - Innings: 63\n",
      "   - Runs: 2,274\n",
      "   - Highest Score: 110*\n",
      "   - Centuries: 2\n",
      "   - Half-Centuries: 22\n",
      "   - Batting Average: ~32.58\n",
      "   - Strike Rate: ~138.40\n",
      "   - Debut: November 18, 2015, vs. Zimbabwe\n",
      "\n",
      "**Indian Premier League (IPL) Statistics:**\n",
      "- Teams: Kings XI Punjab (2014-2020), Lucknow Super Giants (2022-present)\n",
      "- Matches: 115\n",
      "- Innings: 105\n",
      "- Runs: 3,670\n",
      "- Highest Score: 132*\n",
      "- Centuries: 2\n",
      "- Half-Centuries: 22\n",
      "- Batting Average: ~42.75\n",
      "- Strike Rate: ~133.39\n",
      "\n",
      "**Bowling Statistics:**\n",
      "- Tests: 2 wickets at 29.00\n",
      "- ODIs: 0 wickets\n",
      "- T20Is: 1 wicket at 28.00\n",
      "\n",
      "**Awards and Records:**\n",
      "- ICC T20I Player of the Year (2018)\n",
      "- Fastest Indian to reach 1,000 runs in T20Is\n",
      "- Orange Cap in IPL (2020)\n",
      "\n",
      "**Other Roles:**\n",
      "- Occasional Wicket-keeper in white-ball formats.\n",
      "\n",
      "This comprehensive overview captures KL Rahul's contributions across various formats, highlighting his consistency and impact in international and league cricket.\n"
     ]
    }
   ],
   "source": [
    "print(llamaResponse.content)"
   ]
  },
  {
   "cell_type": "code",
   "execution_count": 11,
   "metadata": {},
   "outputs": [],
   "source": [
    "mistralmodel=mistralChatModel.invoke(messages)"
   ]
  },
  {
   "cell_type": "code",
   "execution_count": 12,
   "metadata": {},
   "outputs": [
    {
     "name": "stdout",
     "output_type": "stream",
     "text": [
      "content='KL Rahul is an Indian cricketer who has played international cricket for India in all three formats: Tests, ODIs, and T20Is. Here are some of his career statistics as of February 2023:\\n\\nTests:\\n\\n* Matches: 43\\n* Innings: 74\\n* Runs: 2865\\n* Average: 38.22\\n* Half-centuries: 16\\n* Centuries: 6\\n* Top score: 199\\n\\nODIs:\\n\\n* Matches: 43\\n* Innings: 43\\n* Runs: 1752\\n* Average: 41.72\\n* Half-centuries: 12\\n* Centuries: 3\\n* Top score: 112\\n\\nT20Is:\\n\\n* Matches: 54\\n* Innings: 52\\n* Runs: 1748\\n* Average: 35.46\\n* Half-centuries: 14\\n* Centuries: 0\\n* Top score: 91\\n\\nI hope this helps! Let me know if you have any other questions.' additional_kwargs={} response_metadata={'token_usage': {'completion_tokens': 272, 'prompt_tokens': 21, 'total_tokens': 293, 'completion_time': 0.420926772, 'prompt_time': 0.002244101, 'queue_time': 0.028767468999999997, 'total_time': 0.423170873}, 'model_name': 'mixtral-8x7b-32768', 'system_fingerprint': 'fp_c5f20b5bb1', 'finish_reason': 'stop', 'logprobs': None} id='run-8398dc84-ff2b-44c1-8eae-41d8d02b541b-0' usage_metadata={'input_tokens': 21, 'output_tokens': 272, 'total_tokens': 293}\n"
     ]
    }
   ],
   "source": [
    "print(mistralmodel)"
   ]
  },
  {
   "cell_type": "code",
   "execution_count": 13,
   "metadata": {},
   "outputs": [
    {
     "data": {
      "text/plain": [
       "AIMessage(content=\"Okay, here's a breakdown of KL Rahul's career statistics in a tabular format. I've included stats across different formats of cricket:\\n\\n**KL Rahul Career Statistics**\\n\\n| Category           | Format    | Matches | Innings | Not Outs | Runs   | Highest Score | Average | Balls Faced | Strike Rate | 100s | 50s | 4s   | 6s   | Catches | Stumpings |\\n|--------------------|-----------|---------|---------|----------|--------|---------------|---------|-------------|-------------|------|-----|-----|-----|---------|-----------|\\n| **Test Cricket**   | Test      | 49      | 83      | 6        | 2642  | 199           | 34.31   | 5366        | 49.23       | 7    | 13  | 297  | 23  | 57     | 0         |\\n| **ODI Cricket**    | ODI       | 60      | 57      | 10      | 2139  | 112           | 45.51   | 2215        | 96.57       | 6    | 14  | 184  | 54  | 36      | 0         |\\n| **T20I Cricket**   | T20I      | 72      | 68      | 8      | 2265  | 110*          | 37.75   | 1754        | 129.13      | 2    | 22  | 196 | 86 | 43    | 0         |\\n| **First-Class**    | First-Class| 106     | 180     | 16     | 7289 | 337         | 44.44   | -         | -           | 19   | 38 | -   | -    | 118       | 0         |\\n| **List A**         | List A   | 141     | 136     | 21     | 5596  | 164         | 48.66   | -         | -          | 14   | 44 | -   | -   | 86        | 0         |\\n| **T20s**           | T20      | 257     | 247     | 33     | 7996 | 132*         | 37.36   | -         | -         | 6  | 65 | - | -   | 132    | 0         |\\n| **IPL**           | IPL      | 123     | 114     | 14     | 4286  | 132*         | 43.29   | 3123        | 137.24      | 4    | 33  | 378  | 186  | 58       | 0        |\\n\\n**Key Points and Notes:**\\n\\n*   **Matches:** Number of matches played.\\n*   **Innings:** Number of times he has batted.\\n*   **Not Outs:** Number of times he has remained not out.\\n*   **Runs:** Total runs scored.\\n*   **Highest Score:** Highest individual score in that format.\\n*   **Average:** Runs scored per dismissal.\\n*   **Balls Faced:** Total balls faced in that format.\\n*   **Strike Rate:** Runs scored per 100 balls faced (where applicable)\\n*   **100s:** Number of centuries scored.\\n*   **50s:** Number of half-centuries scored.\\n*   **4s:** Number of fours scored.\\n*   **6s:** Number of sixes scored.\\n*   **Catches:** Number of catches taken.\\n*   **Stumpings:** Number of stumpings done (as a wicket-keeper, where applicable)\\n\\n**Data Accuracy**\\n\\n*   The data is updated to the best of my knowledge as of October 26, 2023.\\n*   Numbers may vary slightly depending on the source.\\n\\nIf you have any other questions, feel free to ask!\", additional_kwargs={}, response_metadata={'prompt_feedback': {'block_reason': 0, 'safety_ratings': []}, 'finish_reason': 'STOP', 'safety_ratings': [{'category': 'HARM_CATEGORY_HATE_SPEECH', 'probability': 'NEGLIGIBLE', 'blocked': False}, {'category': 'HARM_CATEGORY_DANGEROUS_CONTENT', 'probability': 'NEGLIGIBLE', 'blocked': False}, {'category': 'HARM_CATEGORY_HARASSMENT', 'probability': 'NEGLIGIBLE', 'blocked': False}, {'category': 'HARM_CATEGORY_SEXUALLY_EXPLICIT', 'probability': 'NEGLIGIBLE', 'blocked': False}]}, id='run-eb43e99f-8ebe-43fa-947e-7a2b84f7ebbe-0', usage_metadata={'input_tokens': 11, 'output_tokens': 1007, 'total_tokens': 1018, 'input_token_details': {'cache_read': 0}})"
      ]
     },
     "execution_count": 13,
     "metadata": {},
     "output_type": "execute_result"
    }
   ],
   "source": [
    "from langchain_google_genai import ChatGoogleGenerativeAI\n",
    "\n",
    "llm = ChatGoogleGenerativeAI(model=\"gemini-2.0-flash-exp\")\n",
    "llm.invoke(\"list all stats of KL Rahul In Tabular Format\")"
   ]
  },
  {
   "cell_type": "code",
   "execution_count": 14,
   "metadata": {},
   "outputs": [
    {
     "name": "stdout",
     "output_type": "stream",
     "text": [
      "content=\"Okay, let's dive into the stats of KL Rahul. I'll break it down by format (Test, ODI, and T20I) and also include some key IPL stats. Keep in mind that stats are always subject to change as he continues to play!\\n\\n**Updated as of October 26, 2023 (Post India vs New Zealand World Cup Match)**\\n\\n**Test Cricket**\\n\\n*   **Matches:** 49\\n*   **Innings:** 84\\n*   **Not Outs:** 6\\n*   **Runs:** 2642\\n*   **Highest Score:** 199\\n*   **Average:** 33.87\\n*   **100s:** 7\\n*   **50s:** 13\\n*   **Ducks:** 6\\n*   **Balls Faced:** 5437\\n*   **Strike Rate:** 48.59\\n*   **Catches:** 57\\n\\n**Key Test Stats & Observations:**\\n\\n*   **Inconsistent Form:** Rahul's Test career has been marked by periods of brilliant form interspersed with periods of inconsistency.\\n*   **Opening Specialist:** He has primarily batted as an opener in Tests, but has also played in the middle order.\\n*   **Overseas Hundreds:** He has a strong record with Test centuries in Australia, England, and South Africa.\\n*   **Potential:** Despite the fluctuations, he is considered a technically gifted batsman with the potential to be a consistent Test performer.\\n\\n**One Day International (ODI) Cricket**\\n\\n*   **Matches:** 64\\n*   **Innings:** 62\\n*   **Not Outs:** 10\\n*   **Runs:** 2323\\n*   **Highest Score:** 112\\n*   **Average:** 44.67\\n*   **100s:** 6\\n*   **50s:** 15\\n*   **Ducks:** 4\\n*   **Balls Faced:** 2506\\n*   **Strike Rate:** 92.69\\n*   **Catches:** 52\\n*   **Wicketkeeping Dismissals:** 15 (12 catches, 3 stumpings)\\n\\n**Key ODI Stats & Observations:**\\n\\n*   **Middle-Order Stability:** In recent times, Rahul has found his niche in the middle order, providing stability and finishing prowess.\\n*   **Strong Average:**  His ODI average is quite impressive, reflecting his ability to consistently score runs.\\n*   **Wicketkeeping:** He has taken up the wicketkeeping role for the Indian ODI team, adding value to the squad.\\n*   **Versatility:** He has shown the ability to adapt his game to various match situations.\\n\\n**Twenty20 International (T20I) Cricket**\\n\\n*   **Matches:** 72\\n*   **Innings:** 68\\n*   **Not Outs:** 10\\n*   **Runs:** 2265\\n*   **Highest Score:** 110*\\n*   **Average:** 37.34\\n*   **100s:** 2\\n*   **50s:** 22\\n*   **Ducks:** 3\\n*   **Balls Faced:** 1656\\n*   **Strike Rate:** 136.77\\n*   **Catches:** 39\\n\\n**Key T20I Stats & Observations:**\\n\\n*   **Explosive Opener:** KL Rahul has been a prolific T20I opener, capable of quick scoring.\\n*   **Consistent Scorer:** He is one of India's leading run-scorers in T20Is.\\n*   **High Strike Rate:** His strike rate highlights his ability to score quickly in the shortest format.\\n*   **Century Maker:** He has two T20I centuries to his name.\\n\\n**Indian Premier League (IPL)**\\n\\n*   **Matches:** 118\\n*   **Innings:** 110\\n*   **Not Outs:** 11\\n*   **Runs:** 4163\\n*   **Highest Score:** 132*\\n*   **Average:** 46.77\\n*   **100s:** 4\\n*   **50s:** 33\\n*   **Ducks:** 8\\n*   **Balls Faced:** 3097\\n*   **Strike Rate:** 134.42\\n*   **Catches:** 55\\n\\n**Key IPL Stats & Observations:**\\n\\n*   **Consistent Performer:** KL Rahul has been a very consistent run-scorer in the IPL.\\n*   **Orange Cap Winner:** He has won the Orange Cap (most runs in a season) twice.\\n*   **Captaincy:** He has also captained Punjab Kings and Lucknow Super Giants in the IPL.\\n*   **Power Hitting:** He is known for his ability to hit big sixes.\\n\\n**Overall Summary**\\n\\nKL Rahul is a versatile and talented cricketer who has represented India across all three formats. He is an elegant batsman with a wide range of shots. He has shown promise and potential in all three formats and has had great success in the white-ball formats, particularly in ODIs and T20s. His Test career has had its ups and downs, but he remains a key player for India. He is also a capable wicketkeeper and a leader.\\n\\n**Important Note:** These stats are current as of the date mentioned. I'll do my best to keep them updated, but for the most up-to-the-minute information, please refer to reliable cricket statistics websites like ESPNcricinfo, Cricbuzz, or Howstat.\\n\\nDo you have any other questions about KL Rahul or any specific aspects you'd like to delve into? I'm happy to help!\" additional_kwargs={} response_metadata={'prompt_feedback': {'block_reason': 0, 'safety_ratings': []}, 'finish_reason': 'STOP', 'safety_ratings': [{'category': 'HARM_CATEGORY_HATE_SPEECH', 'probability': 'NEGLIGIBLE', 'blocked': False}, {'category': 'HARM_CATEGORY_DANGEROUS_CONTENT', 'probability': 'NEGLIGIBLE', 'blocked': False}, {'category': 'HARM_CATEGORY_HARASSMENT', 'probability': 'NEGLIGIBLE', 'blocked': False}, {'category': 'HARM_CATEGORY_SEXUALLY_EXPLICIT', 'probability': 'NEGLIGIBLE', 'blocked': False}]} id='run-53e32d67-9378-4a95-bd9f-87c44ad3f0a5-0' usage_metadata={'input_tokens': 13, 'output_tokens': 1261, 'total_tokens': 1274, 'input_token_details': {'cache_read': 0}}\n"
     ]
    }
   ],
   "source": [
    "gemini=llm.invoke(messages)\n",
    "print(gemini)\n"
   ]
  },
  {
   "cell_type": "code",
   "execution_count": null,
   "metadata": {},
   "outputs": [],
   "source": [
    "from langchain_anthropic import ChatAnthropic\n",
    "\n",
    "llm = ChatAnthropic(\n",
    "    model=\"claude-3-sonnet-20240229\",\n",
    "    temperature=0,\n",
    "    max_tokens=1024,\n",
    "    timeout=None,\n",
    "    max_retries=2\n",
    "    \n",
    ")\n",
    "llm.invoke(\"list all stats of KL Rahul In Tabular Format\")\n"
   ]
  }
 ],
 "metadata": {
  "kernelspec": {
   "display_name": "base",
   "language": "python",
   "name": "python3"
  },
  "language_info": {
   "codemirror_mode": {
    "name": "ipython",
    "version": 3
   },
   "file_extension": ".py",
   "mimetype": "text/x-python",
   "name": "python",
   "nbconvert_exporter": "python",
   "pygments_lexer": "ipython3",
   "version": "3.12.3"
  }
 },
 "nbformat": 4,
 "nbformat_minor": 2
}
