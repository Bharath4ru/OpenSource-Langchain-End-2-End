{
 "cells": [
  {
   "cell_type": "code",
   "execution_count": 1,
   "metadata": {},
   "outputs": [],
   "source": [
    "import os\n",
    "from dotenv import load_dotenv, find_dotenv\n",
    "_ = load_dotenv(find_dotenv())\n"
   ]
  },
  {
   "cell_type": "code",
   "execution_count": 2,
   "metadata": {},
   "outputs": [],
   "source": [
    "from langchain_google_genai import GoogleGenerativeAI\n",
    "llm1 = GoogleGenerativeAI(model=\"gemini-pro\")"
   ]
  },
  {
   "cell_type": "markdown",
   "metadata": {},
   "source": [
    "## Buffer Memory\n",
    "* ConversationBufferMemory keeps a list of chat messages in a buffer and passes those into the prompt template."
   ]
  },
  {
   "cell_type": "code",
   "execution_count": 3,
   "metadata": {},
   "outputs": [
    {
     "name": "stderr",
     "output_type": "stream",
     "text": [
      "C:\\Users\\Swapna\\AppData\\Local\\Temp\\ipykernel_16000\\2494216016.py:22: LangChainDeprecationWarning: Please see the migration guide at: https://python.langchain.com/docs/versions/migrating_memory/\n",
      "  memory = ConversationBufferMemory(memory_key=\"chat_history\", return_messages=True)\n",
      "C:\\Users\\Swapna\\AppData\\Local\\Temp\\ipykernel_16000\\2494216016.py:24: LangChainDeprecationWarning: The class `LLMChain` was deprecated in LangChain 0.1.17 and will be removed in 1.0. Use :meth:`~RunnableSequence, e.g., `prompt | llm`` instead.\n",
      "  conversation = LLMChain(\n"
     ]
    }
   ],
   "source": [
    "from langchain_core.prompts import (\n",
    "    ChatPromptTemplate,\n",
    "    MessagesPlaceholder,\n",
    "    SystemMessagePromptTemplate,\n",
    "    HumanMessagePromptTemplate,\n",
    ")\n",
    "from langchain.chains import LLMChain\n",
    "from langchain.memory import ConversationBufferMemory\n",
    "\n",
    "\n",
    "prompt = ChatPromptTemplate(\n",
    "    messages=[\n",
    "        SystemMessagePromptTemplate.from_template(\n",
    "            \"You are a nice chatbot having a conversation with a human.\"\n",
    "        ),\n",
    "        # The `variable_name` here is what must align with memory\n",
    "        MessagesPlaceholder(variable_name=\"chat_history\"),\n",
    "        HumanMessagePromptTemplate.from_template(\"{question}\")\n",
    "    ]\n",
    ")\n",
    "\n",
    "memory = ConversationBufferMemory(memory_key=\"chat_history\", return_messages=True)\n",
    "\n",
    "conversation = LLMChain(\n",
    "    llm=llm1,\n",
    "    prompt=prompt,\n",
    "    verbose=True,\n",
    "    memory=memory\n",
    ")\n"
   ]
  },
  {
   "cell_type": "code",
   "execution_count": 4,
   "metadata": {},
   "outputs": [
    {
     "name": "stderr",
     "output_type": "stream",
     "text": [
      "C:\\Users\\Swapna\\AppData\\Local\\Temp\\ipykernel_16000\\2596321432.py:1: LangChainDeprecationWarning: The method `Chain.__call__` was deprecated in langchain 0.1.0 and will be removed in 1.0. Use :meth:`~invoke` instead.\n",
      "  conversation({\"question\": \"hi\"})\n"
     ]
    },
    {
     "name": "stdout",
     "output_type": "stream",
     "text": [
      "\n",
      "\n",
      "\u001b[1m> Entering new LLMChain chain...\u001b[0m\n",
      "Prompt after formatting:\n",
      "\u001b[32;1m\u001b[1;3mSystem: You are a nice chatbot having a conversation with a human.\n",
      "Human: hi\u001b[0m\n",
      "\n",
      "\u001b[1m> Finished chain.\u001b[0m\n"
     ]
    },
    {
     "data": {
      "text/plain": [
       "{'question': 'hi',\n",
       " 'chat_history': [HumanMessage(content='hi', additional_kwargs={}, response_metadata={}),\n",
       "  AIMessage(content='System: Hello! How can I help you today?', additional_kwargs={}, response_metadata={})],\n",
       " 'text': 'System: Hello! How can I help you today?'}"
      ]
     },
     "execution_count": 4,
     "metadata": {},
     "output_type": "execute_result"
    }
   ],
   "source": [
    "conversation({\"question\": \"hi\"})"
   ]
  },
  {
   "cell_type": "code",
   "execution_count": 5,
   "metadata": {},
   "outputs": [
    {
     "name": "stdout",
     "output_type": "stream",
     "text": [
      "\n",
      "\n",
      "\u001b[1m> Entering new LLMChain chain...\u001b[0m\n",
      "Prompt after formatting:\n",
      "\u001b[32;1m\u001b[1;3mSystem: You are a nice chatbot having a conversation with a human.\n",
      "Human: hi\n",
      "AI: System: Hello! How can I help you today?\n",
      "Human: My name is Bharath...im currently learning langchain\u001b[0m\n",
      "\n",
      "\u001b[1m> Finished chain.\u001b[0m\n"
     ]
    },
    {
     "data": {
      "text/plain": [
       "{'question': 'My name is Bharath...im currently learning langchain',\n",
       " 'chat_history': [HumanMessage(content='hi', additional_kwargs={}, response_metadata={}),\n",
       "  AIMessage(content='System: Hello! How can I help you today?', additional_kwargs={}, response_metadata={}),\n",
       "  HumanMessage(content='My name is Bharath...im currently learning langchain', additional_kwargs={}, response_metadata={}),\n",
       "  AIMessage(content=\"System: That's great, Bharath! LangChain is a powerful tool for learning languages. I'm glad to hear that you're using it. Is there anything specific I can help you with today?\", additional_kwargs={}, response_metadata={})],\n",
       " 'text': \"System: That's great, Bharath! LangChain is a powerful tool for learning languages. I'm glad to hear that you're using it. Is there anything specific I can help you with today?\"}"
      ]
     },
     "execution_count": 5,
     "metadata": {},
     "output_type": "execute_result"
    }
   ],
   "source": [
    "conversation({\"question\": \"My name is Bharath...im currently learning langchain\"})"
   ]
  },
  {
   "cell_type": "code",
   "execution_count": 6,
   "metadata": {},
   "outputs": [
    {
     "name": "stdout",
     "output_type": "stream",
     "text": [
      "\n",
      "\n",
      "\u001b[1m> Entering new LLMChain chain...\u001b[0m\n",
      "Prompt after formatting:\n",
      "\u001b[32;1m\u001b[1;3mSystem: You are a nice chatbot having a conversation with a human.\n",
      "Human: hi\n",
      "AI: System: Hello! How can I help you today?\n",
      "Human: My name is Bharath...im currently learning langchain\n",
      "AI: System: That's great, Bharath! LangChain is a powerful tool for learning languages. I'm glad to hear that you're using it. Is there anything specific I can help you with today?\n",
      "Human: currently in completed LCEL in langchain\u001b[0m\n",
      "\n",
      "\u001b[1m> Finished chain.\u001b[0m\n"
     ]
    },
    {
     "data": {
      "text/plain": [
       "{'question': 'currently in completed LCEL in langchain',\n",
       " 'chat_history': [HumanMessage(content='hi', additional_kwargs={}, response_metadata={}),\n",
       "  AIMessage(content='System: Hello! How can I help you today?', additional_kwargs={}, response_metadata={}),\n",
       "  HumanMessage(content='My name is Bharath...im currently learning langchain', additional_kwargs={}, response_metadata={}),\n",
       "  AIMessage(content=\"System: That's great, Bharath! LangChain is a powerful tool for learning languages. I'm glad to hear that you're using it. Is there anything specific I can help you with today?\", additional_kwargs={}, response_metadata={}),\n",
       "  HumanMessage(content='currently in completed LCEL in langchain', additional_kwargs={}, response_metadata={}),\n",
       "  AIMessage(content=\"AI: System: Congratulations on completing LCEL in LangChain, Bharath! That's a great accomplishment.  What are your thoughts on the LCEL course? Did you find it helpful?\", additional_kwargs={}, response_metadata={})],\n",
       " 'text': \"AI: System: Congratulations on completing LCEL in LangChain, Bharath! That's a great accomplishment.  What are your thoughts on the LCEL course? Did you find it helpful?\"}"
      ]
     },
     "execution_count": 6,
     "metadata": {},
     "output_type": "execute_result"
    }
   ],
   "source": [
    "conversation({\"question\": \"currently in completed LCEL in langchain\"})"
   ]
  },
  {
   "cell_type": "code",
   "execution_count": 7,
   "metadata": {},
   "outputs": [
    {
     "name": "stdout",
     "output_type": "stream",
     "text": [
      "\n",
      "\n",
      "\u001b[1m> Entering new LLMChain chain...\u001b[0m\n",
      "Prompt after formatting:\n",
      "\u001b[32;1m\u001b[1;3mSystem: You are a nice chatbot having a conversation with a human.\n",
      "Human: hi\n",
      "AI: System: Hello! How can I help you today?\n",
      "Human: My name is Bharath...im currently learning langchain\n",
      "AI: System: That's great, Bharath! LangChain is a powerful tool for learning languages. I'm glad to hear that you're using it. Is there anything specific I can help you with today?\n",
      "Human: currently in completed LCEL in langchain\n",
      "AI: AI: System: Congratulations on completing LCEL in LangChain, Bharath! That's a great accomplishment.  What are your thoughts on the LCEL course? Did you find it helpful?\n",
      "Human: Do you remember my name?\u001b[0m\n",
      "\n",
      "\u001b[1m> Finished chain.\u001b[0m\n"
     ]
    },
    {
     "data": {
      "text/plain": [
       "{'question': 'Do you remember my name?',\n",
       " 'chat_history': [HumanMessage(content='hi', additional_kwargs={}, response_metadata={}),\n",
       "  AIMessage(content='System: Hello! How can I help you today?', additional_kwargs={}, response_metadata={}),\n",
       "  HumanMessage(content='My name is Bharath...im currently learning langchain', additional_kwargs={}, response_metadata={}),\n",
       "  AIMessage(content=\"System: That's great, Bharath! LangChain is a powerful tool for learning languages. I'm glad to hear that you're using it. Is there anything specific I can help you with today?\", additional_kwargs={}, response_metadata={}),\n",
       "  HumanMessage(content='currently in completed LCEL in langchain', additional_kwargs={}, response_metadata={}),\n",
       "  AIMessage(content=\"AI: System: Congratulations on completing LCEL in LangChain, Bharath! That's a great accomplishment.  What are your thoughts on the LCEL course? Did you find it helpful?\", additional_kwargs={}, response_metadata={}),\n",
       "  HumanMessage(content='Do you remember my name?', additional_kwargs={}, response_metadata={}),\n",
       "  AIMessage(content='AI: System: Yes, I remember your name is Bharath. I am still under development, but I am learning to remember and recall information better. Is there anything else I can help you with today?', additional_kwargs={}, response_metadata={})],\n",
       " 'text': 'AI: System: Yes, I remember your name is Bharath. I am still under development, but I am learning to remember and recall information better. Is there anything else I can help you with today?'}"
      ]
     },
     "execution_count": 7,
     "metadata": {},
     "output_type": "execute_result"
    }
   ],
   "source": [
    "conversation({\"question\": \"Do you remember my name?\"})"
   ]
  },
  {
   "cell_type": "code",
   "execution_count": 8,
   "metadata": {},
   "outputs": [
    {
     "name": "stdout",
     "output_type": "stream",
     "text": [
      "[HumanMessage(content='hi', additional_kwargs={}, response_metadata={}), AIMessage(content='System: Hello! How can I help you today?', additional_kwargs={}, response_metadata={}), HumanMessage(content='My name is Bharath...im currently learning langchain', additional_kwargs={}, response_metadata={}), AIMessage(content=\"System: That's great, Bharath! LangChain is a powerful tool for learning languages. I'm glad to hear that you're using it. Is there anything specific I can help you with today?\", additional_kwargs={}, response_metadata={}), HumanMessage(content='currently in completed LCEL in langchain', additional_kwargs={}, response_metadata={}), AIMessage(content=\"AI: System: Congratulations on completing LCEL in LangChain, Bharath! That's a great accomplishment.  What are your thoughts on the LCEL course? Did you find it helpful?\", additional_kwargs={}, response_metadata={}), HumanMessage(content='Do you remember my name?', additional_kwargs={}, response_metadata={}), AIMessage(content='AI: System: Yes, I remember your name is Bharath. I am still under development, but I am learning to remember and recall information better. Is there anything else I can help you with today?', additional_kwargs={}, response_metadata={})]\n"
     ]
    }
   ],
   "source": [
    "print(memory.buffer)"
   ]
  },
  {
   "cell_type": "markdown",
   "metadata": {},
   "source": [
    "## Conversation Buffer Window Memory\n",
    "Similar to the previous one, but **you can limit the number of conversational exchanges stored in memory**. For example, you can set it so it only remembers the last 3 questions and answers of the conversation."
   ]
  },
  {
   "cell_type": "code",
   "execution_count": 9,
   "metadata": {},
   "outputs": [],
   "source": [
    "from langchain.memory import ConversationBufferWindowMemory\n",
    "from langchain.chains import ConversationChain"
   ]
  },
  {
   "cell_type": "code",
   "execution_count": 10,
   "metadata": {},
   "outputs": [
    {
     "name": "stderr",
     "output_type": "stream",
     "text": [
      "C:\\Users\\Swapna\\AppData\\Local\\Temp\\ipykernel_16000\\3645135692.py:1: LangChainDeprecationWarning: Please see the migration guide at: https://python.langchain.com/docs/versions/migrating_memory/\n",
      "  window_memory = ConversationBufferWindowMemory(k=3)\n"
     ]
    }
   ],
   "source": [
    "window_memory = ConversationBufferWindowMemory(k=3)"
   ]
  },
  {
   "cell_type": "code",
   "execution_count": 11,
   "metadata": {},
   "outputs": [
    {
     "name": "stderr",
     "output_type": "stream",
     "text": [
      "C:\\Users\\Swapna\\AppData\\Local\\Temp\\ipykernel_16000\\177215815.py:1: LangChainDeprecationWarning: The class `ConversationChain` was deprecated in LangChain 0.2.7 and will be removed in 1.0. Use :meth:`~RunnableWithMessageHistory: https://python.langchain.com/v0.2/api_reference/core/runnables/langchain_core.runnables.history.RunnableWithMessageHistory.html` instead.\n",
      "  conversation_window = ConversationChain(\n"
     ]
    }
   ],
   "source": [
    "conversation_window = ConversationChain(\n",
    "    llm=llm1, \n",
    "    memory = window_memory,\n",
    "    verbose=True\n",
    ")"
   ]
  },
  {
   "cell_type": "code",
   "execution_count": 12,
   "metadata": {},
   "outputs": [
    {
     "name": "stdout",
     "output_type": "stream",
     "text": [
      "\n",
      "\n",
      "\u001b[1m> Entering new ConversationChain chain...\u001b[0m\n",
      "Prompt after formatting:\n",
      "\u001b[32;1m\u001b[1;3mThe following is a friendly conversation between a human and an AI. The AI is talkative and provides lots of specific details from its context. If the AI does not know the answer to a question, it truthfully says it does not know.\n",
      "\n",
      "Current conversation:\n",
      "\n",
      "Human: Hi, my name is Bharth\n",
      "AI:\u001b[0m\n",
      "\n",
      "\u001b[1m> Finished chain.\u001b[0m\n"
     ]
    },
    {
     "data": {
      "text/plain": [
       "{'input': 'Hi, my name is Bharth',\n",
       " 'history': '',\n",
       " 'response': \"It's a pleasure to meet you, Bharth. My name is Gemini.\"}"
      ]
     },
     "execution_count": 12,
     "metadata": {},
     "output_type": "execute_result"
    }
   ],
   "source": [
    "conversation_window({\"input\": \"Hi, my name is Bharth\"})"
   ]
  },
  {
   "cell_type": "code",
   "execution_count": 13,
   "metadata": {},
   "outputs": [
    {
     "name": "stdout",
     "output_type": "stream",
     "text": [
      "\n",
      "\n",
      "\u001b[1m> Entering new ConversationChain chain...\u001b[0m\n",
      "Prompt after formatting:\n",
      "\u001b[32;1m\u001b[1;3mThe following is a friendly conversation between a human and an AI. The AI is talkative and provides lots of specific details from its context. If the AI does not know the answer to a question, it truthfully says it does not know.\n",
      "\n",
      "Current conversation:\n",
      "Human: Hi, my name is Bharth\n",
      "AI: It's a pleasure to meet you, Bharth. My name is Gemini.\n",
      "Human: My favorite color is blue\n",
      "AI:\u001b[0m\n",
      "\n",
      "\u001b[1m> Finished chain.\u001b[0m\n"
     ]
    },
    {
     "data": {
      "text/plain": [
       "{'input': 'My favorite color is blue',\n",
       " 'history': \"Human: Hi, my name is Bharth\\nAI: It's a pleasure to meet you, Bharth. My name is Gemini.\",\n",
       " 'response': \"That's interesting! Blue is a very calming and serene color. It's often associated with peace, tranquility, and harmony. It's also a popular color for water and the sky. Additionally, blue is a primary color, which means it cannot be created by mixing other colors.\"}"
      ]
     },
     "execution_count": 13,
     "metadata": {},
     "output_type": "execute_result"
    }
   ],
   "source": [
    "conversation_window({\"input\": \"My favorite color is blue\"})"
   ]
  },
  {
   "cell_type": "code",
   "execution_count": 14,
   "metadata": {},
   "outputs": [
    {
     "name": "stdout",
     "output_type": "stream",
     "text": [
      "\n",
      "\n",
      "\u001b[1m> Entering new ConversationChain chain...\u001b[0m\n",
      "Prompt after formatting:\n",
      "\u001b[32;1m\u001b[1;3mThe following is a friendly conversation between a human and an AI. The AI is talkative and provides lots of specific details from its context. If the AI does not know the answer to a question, it truthfully says it does not know.\n",
      "\n",
      "Current conversation:\n",
      "Human: Hi, my name is Bharth\n",
      "AI: It's a pleasure to meet you, Bharth. My name is Gemini.\n",
      "Human: My favorite color is blue\n",
      "AI: That's interesting! Blue is a very calming and serene color. It's often associated with peace, tranquility, and harmony. It's also a popular color for water and the sky. Additionally, blue is a primary color, which means it cannot be created by mixing other colors.\n",
      "Human: My favorite animals are dogs\n",
      "AI:\u001b[0m\n",
      "\n",
      "\u001b[1m> Finished chain.\u001b[0m\n"
     ]
    },
    {
     "data": {
      "text/plain": [
       "{'input': 'My favorite animals are dogs',\n",
       " 'history': \"Human: Hi, my name is Bharth\\nAI: It's a pleasure to meet you, Bharth. My name is Gemini.\\nHuman: My favorite color is blue\\nAI: That's interesting! Blue is a very calming and serene color. It's often associated with peace, tranquility, and harmony. It's also a popular color for water and the sky. Additionally, blue is a primary color, which means it cannot be created by mixing other colors.\",\n",
       " 'response': 'Dogs are wonderful animals! They are known for their loyalty, intelligence, and companionship. Dogs have been domesticated for thousands of years and have evolved to become a diverse group of breeds, each with its own unique characteristics. Some popular dog breeds include the Golden Retriever, Labrador Retriever, German Shepherd, Poodle, and Bulldog. Dogs make great pets and can provide years of love and enjoyment.'}"
      ]
     },
     "execution_count": 14,
     "metadata": {},
     "output_type": "execute_result"
    }
   ],
   "source": [
    "conversation_window({\"input\": \"My favorite animals are dogs\"})"
   ]
  },
  {
   "cell_type": "code",
   "execution_count": 15,
   "metadata": {},
   "outputs": [
    {
     "name": "stdout",
     "output_type": "stream",
     "text": [
      "\n",
      "\n",
      "\u001b[1m> Entering new ConversationChain chain...\u001b[0m\n",
      "Prompt after formatting:\n",
      "\u001b[32;1m\u001b[1;3mThe following is a friendly conversation between a human and an AI. The AI is talkative and provides lots of specific details from its context. If the AI does not know the answer to a question, it truthfully says it does not know.\n",
      "\n",
      "Current conversation:\n",
      "Human: Hi, my name is Bharth\n",
      "AI: It's a pleasure to meet you, Bharth. My name is Gemini.\n",
      "Human: My favorite color is blue\n",
      "AI: That's interesting! Blue is a very calming and serene color. It's often associated with peace, tranquility, and harmony. It's also a popular color for water and the sky. Additionally, blue is a primary color, which means it cannot be created by mixing other colors.\n",
      "Human: My favorite animals are dogs\n",
      "AI: Dogs are wonderful animals! They are known for their loyalty, intelligence, and companionship. Dogs have been domesticated for thousands of years and have evolved to become a diverse group of breeds, each with its own unique characteristics. Some popular dog breeds include the Golden Retriever, Labrador Retriever, German Shepherd, Poodle, and Bulldog. Dogs make great pets and can provide years of love and enjoyment.\n",
      "Human: I like to drive bikes\n",
      "AI:\u001b[0m\n",
      "\n",
      "\u001b[1m> Finished chain.\u001b[0m\n"
     ]
    },
    {
     "data": {
      "text/plain": [
       "{'input': 'I like to drive bikes',\n",
       " 'history': \"Human: Hi, my name is Bharth\\nAI: It's a pleasure to meet you, Bharth. My name is Gemini.\\nHuman: My favorite color is blue\\nAI: That's interesting! Blue is a very calming and serene color. It's often associated with peace, tranquility, and harmony. It's also a popular color for water and the sky. Additionally, blue is a primary color, which means it cannot be created by mixing other colors.\\nHuman: My favorite animals are dogs\\nAI: Dogs are wonderful animals! They are known for their loyalty, intelligence, and companionship. Dogs have been domesticated for thousands of years and have evolved to become a diverse group of breeds, each with its own unique characteristics. Some popular dog breeds include the Golden Retriever, Labrador Retriever, German Shepherd, Poodle, and Bulldog. Dogs make great pets and can provide years of love and enjoyment.\",\n",
       " 'response': \"Cycling is a great way to get exercise and enjoy the outdoors. It's also a relatively low-impact activity, making it a good choice for people of all ages and fitness levels. There are many different types of bikes available, so you can choose one that's right for your needs and interests. If you're new to cycling, it's a good idea to start with a shorter ride and gradually increase the distance and intensity as you get more comfortable.\"}"
      ]
     },
     "execution_count": 15,
     "metadata": {},
     "output_type": "execute_result"
    }
   ],
   "source": [
    "conversation_window({\"input\": \"I like to drive bikes\"})"
   ]
  },
  {
   "cell_type": "code",
   "execution_count": 16,
   "metadata": {},
   "outputs": [
    {
     "name": "stdout",
     "output_type": "stream",
     "text": [
      "\n",
      "\n",
      "\u001b[1m> Entering new ConversationChain chain...\u001b[0m\n",
      "Prompt after formatting:\n",
      "\u001b[32;1m\u001b[1;3mThe following is a friendly conversation between a human and an AI. The AI is talkative and provides lots of specific details from its context. If the AI does not know the answer to a question, it truthfully says it does not know.\n",
      "\n",
      "Current conversation:\n",
      "Human: My favorite color is blue\n",
      "AI: That's interesting! Blue is a very calming and serene color. It's often associated with peace, tranquility, and harmony. It's also a popular color for water and the sky. Additionally, blue is a primary color, which means it cannot be created by mixing other colors.\n",
      "Human: My favorite animals are dogs\n",
      "AI: Dogs are wonderful animals! They are known for their loyalty, intelligence, and companionship. Dogs have been domesticated for thousands of years and have evolved to become a diverse group of breeds, each with its own unique characteristics. Some popular dog breeds include the Golden Retriever, Labrador Retriever, German Shepherd, Poodle, and Bulldog. Dogs make great pets and can provide years of love and enjoyment.\n",
      "Human: I like to drive bikes\n",
      "AI: Cycling is a great way to get exercise and enjoy the outdoors. It's also a relatively low-impact activity, making it a good choice for people of all ages and fitness levels. There are many different types of bikes available, so you can choose one that's right for your needs and interests. If you're new to cycling, it's a good idea to start with a shorter ride and gradually increase the distance and intensity as you get more comfortable.\n",
      "Human: My favorite city is vizag\n",
      "AI:\u001b[0m\n",
      "\n",
      "\u001b[1m> Finished chain.\u001b[0m\n"
     ]
    },
    {
     "data": {
      "text/plain": [
       "{'input': 'My favorite city is vizag',\n",
       " 'history': \"Human: My favorite color is blue\\nAI: That's interesting! Blue is a very calming and serene color. It's often associated with peace, tranquility, and harmony. It's also a popular color for water and the sky. Additionally, blue is a primary color, which means it cannot be created by mixing other colors.\\nHuman: My favorite animals are dogs\\nAI: Dogs are wonderful animals! They are known for their loyalty, intelligence, and companionship. Dogs have been domesticated for thousands of years and have evolved to become a diverse group of breeds, each with its own unique characteristics. Some popular dog breeds include the Golden Retriever, Labrador Retriever, German Shepherd, Poodle, and Bulldog. Dogs make great pets and can provide years of love and enjoyment.\\nHuman: I like to drive bikes\\nAI: Cycling is a great way to get exercise and enjoy the outdoors. It's also a relatively low-impact activity, making it a good choice for people of all ages and fitness levels. There are many different types of bikes available, so you can choose one that's right for your needs and interests. If you're new to cycling, it's a good idea to start with a shorter ride and gradually increase the distance and intensity as you get more comfortable.\",\n",
       " 'response': 'Visakhapatnam, also known as Vizag, is a beautiful port city located in the Indian state of Andhra Pradesh. It is the largest city in the state and is known for its stunning beaches, lush greenery, and vibrant culture. Visakhapatnam is home to several historical landmarks, including the Simhachalam Temple, the Kailasagiri Hill Park, and the INS Kursura Submarine Museum. The city is also a major industrial hub and is home to several major industries, including shipbuilding, steel production, and tourism.'}"
      ]
     },
     "execution_count": 16,
     "metadata": {},
     "output_type": "execute_result"
    }
   ],
   "source": [
    "conversation_window({\"input\": \"My favorite city is vizag\"})"
   ]
  },
  {
   "cell_type": "code",
   "execution_count": 17,
   "metadata": {},
   "outputs": [
    {
     "name": "stdout",
     "output_type": "stream",
     "text": [
      "\n",
      "\n",
      "\u001b[1m> Entering new ConversationChain chain...\u001b[0m\n",
      "Prompt after formatting:\n",
      "\u001b[32;1m\u001b[1;3mThe following is a friendly conversation between a human and an AI. The AI is talkative and provides lots of specific details from its context. If the AI does not know the answer to a question, it truthfully says it does not know.\n",
      "\n",
      "Current conversation:\n",
      "Human: My favorite animals are dogs\n",
      "AI: Dogs are wonderful animals! They are known for their loyalty, intelligence, and companionship. Dogs have been domesticated for thousands of years and have evolved to become a diverse group of breeds, each with its own unique characteristics. Some popular dog breeds include the Golden Retriever, Labrador Retriever, German Shepherd, Poodle, and Bulldog. Dogs make great pets and can provide years of love and enjoyment.\n",
      "Human: I like to drive bikes\n",
      "AI: Cycling is a great way to get exercise and enjoy the outdoors. It's also a relatively low-impact activity, making it a good choice for people of all ages and fitness levels. There are many different types of bikes available, so you can choose one that's right for your needs and interests. If you're new to cycling, it's a good idea to start with a shorter ride and gradually increase the distance and intensity as you get more comfortable.\n",
      "Human: My favorite city is vizag\n",
      "AI: Visakhapatnam, also known as Vizag, is a beautiful port city located in the Indian state of Andhra Pradesh. It is the largest city in the state and is known for its stunning beaches, lush greenery, and vibrant culture. Visakhapatnam is home to several historical landmarks, including the Simhachalam Temple, the Kailasagiri Hill Park, and the INS Kursura Submarine Museum. The city is also a major industrial hub and is home to several major industries, including shipbuilding, steel production, and tourism.\n",
      "Human: What is my favorite color?\n",
      "AI:\u001b[0m\n",
      "\n",
      "\u001b[1m> Finished chain.\u001b[0m\n"
     ]
    },
    {
     "data": {
      "text/plain": [
       "{'input': 'What is my favorite color?',\n",
       " 'history': \"Human: My favorite animals are dogs\\nAI: Dogs are wonderful animals! They are known for their loyalty, intelligence, and companionship. Dogs have been domesticated for thousands of years and have evolved to become a diverse group of breeds, each with its own unique characteristics. Some popular dog breeds include the Golden Retriever, Labrador Retriever, German Shepherd, Poodle, and Bulldog. Dogs make great pets and can provide years of love and enjoyment.\\nHuman: I like to drive bikes\\nAI: Cycling is a great way to get exercise and enjoy the outdoors. It's also a relatively low-impact activity, making it a good choice for people of all ages and fitness levels. There are many different types of bikes available, so you can choose one that's right for your needs and interests. If you're new to cycling, it's a good idea to start with a shorter ride and gradually increase the distance and intensity as you get more comfortable.\\nHuman: My favorite city is vizag\\nAI: Visakhapatnam, also known as Vizag, is a beautiful port city located in the Indian state of Andhra Pradesh. It is the largest city in the state and is known for its stunning beaches, lush greenery, and vibrant culture. Visakhapatnam is home to several historical landmarks, including the Simhachalam Temple, the Kailasagiri Hill Park, and the INS Kursura Submarine Museum. The city is also a major industrial hub and is home to several major industries, including shipbuilding, steel production, and tourism.\",\n",
       " 'response': 'I do not have enough information to answer this question.'}"
      ]
     },
     "execution_count": 17,
     "metadata": {},
     "output_type": "execute_result"
    }
   ],
   "source": [
    "conversation_window({\"input\": \"What is my favorite color?\"})"
   ]
  },
  {
   "cell_type": "code",
   "execution_count": 18,
   "metadata": {},
   "outputs": [
    {
     "name": "stdout",
     "output_type": "stream",
     "text": [
      "\n",
      "\n",
      "\u001b[1m> Entering new ConversationChain chain...\u001b[0m\n",
      "Prompt after formatting:\n",
      "\u001b[32;1m\u001b[1;3mThe following is a friendly conversation between a human and an AI. The AI is talkative and provides lots of specific details from its context. If the AI does not know the answer to a question, it truthfully says it does not know.\n",
      "\n",
      "Current conversation:\n",
      "Human: I like to drive bikes\n",
      "AI: Cycling is a great way to get exercise and enjoy the outdoors. It's also a relatively low-impact activity, making it a good choice for people of all ages and fitness levels. There are many different types of bikes available, so you can choose one that's right for your needs and interests. If you're new to cycling, it's a good idea to start with a shorter ride and gradually increase the distance and intensity as you get more comfortable.\n",
      "Human: My favorite city is vizag\n",
      "AI: Visakhapatnam, also known as Vizag, is a beautiful port city located in the Indian state of Andhra Pradesh. It is the largest city in the state and is known for its stunning beaches, lush greenery, and vibrant culture. Visakhapatnam is home to several historical landmarks, including the Simhachalam Temple, the Kailasagiri Hill Park, and the INS Kursura Submarine Museum. The city is also a major industrial hub and is home to several major industries, including shipbuilding, steel production, and tourism.\n",
      "Human: What is my favorite color?\n",
      "AI: I do not have enough information to answer this question.\n",
      "Human: What is my favorite city?\n",
      "AI:\u001b[0m\n",
      "\n",
      "\u001b[1m> Finished chain.\u001b[0m\n"
     ]
    },
    {
     "data": {
      "text/plain": [
       "{'input': 'What is my favorite city?',\n",
       " 'history': \"Human: I like to drive bikes\\nAI: Cycling is a great way to get exercise and enjoy the outdoors. It's also a relatively low-impact activity, making it a good choice for people of all ages and fitness levels. There are many different types of bikes available, so you can choose one that's right for your needs and interests. If you're new to cycling, it's a good idea to start with a shorter ride and gradually increase the distance and intensity as you get more comfortable.\\nHuman: My favorite city is vizag\\nAI: Visakhapatnam, also known as Vizag, is a beautiful port city located in the Indian state of Andhra Pradesh. It is the largest city in the state and is known for its stunning beaches, lush greenery, and vibrant culture. Visakhapatnam is home to several historical landmarks, including the Simhachalam Temple, the Kailasagiri Hill Park, and the INS Kursura Submarine Museum. The city is also a major industrial hub and is home to several major industries, including shipbuilding, steel production, and tourism.\\nHuman: What is my favorite color?\\nAI: I do not have enough information to answer this question.\",\n",
       " 'response': 'Your favorite city is Vizag.'}"
      ]
     },
     "execution_count": 18,
     "metadata": {},
     "output_type": "execute_result"
    }
   ],
   "source": [
    "conversation_window({\"input\": \"What is my favorite city?\"})"
   ]
  },
  {
   "cell_type": "markdown",
   "metadata": {},
   "source": [
    "# Chat Message History\n",
    "* Save list of chat messages and then fetch them all."
   ]
  },
  {
   "cell_type": "code",
   "execution_count": 19,
   "metadata": {},
   "outputs": [],
   "source": [
    "from langchain_google_genai import GoogleGenerativeAI\n",
    "llm1 = GoogleGenerativeAI(model=\"gemini-pro\")"
   ]
  },
  {
   "cell_type": "code",
   "execution_count": 20,
   "metadata": {},
   "outputs": [],
   "source": [
    "from langchain.memory import ChatMessageHistory\n",
    "\n",
    "history = ChatMessageHistory()\n",
    "\n",
    "history.add_user_message(\"hi!\")\n",
    "\n",
    "history.add_ai_message(\"whats up?\")"
   ]
  },
  {
   "cell_type": "code",
   "execution_count": 21,
   "metadata": {},
   "outputs": [
    {
     "data": {
      "text/plain": [
       "[HumanMessage(content='hi!', additional_kwargs={}, response_metadata={}),\n",
       " AIMessage(content='whats up?', additional_kwargs={}, response_metadata={})]"
      ]
     },
     "execution_count": 21,
     "metadata": {},
     "output_type": "execute_result"
    }
   ],
   "source": [
    "history.messages"
   ]
  },
  {
   "cell_type": "code",
   "execution_count": null,
   "metadata": {},
   "outputs": [],
   "source": []
  }
 ],
 "metadata": {
  "kernelspec": {
   "display_name": "base",
   "language": "python",
   "name": "python3"
  },
  "language_info": {
   "codemirror_mode": {
    "name": "ipython",
    "version": 3
   },
   "file_extension": ".py",
   "mimetype": "text/x-python",
   "name": "python",
   "nbconvert_exporter": "python",
   "pygments_lexer": "ipython3",
   "version": "3.12.3"
  }
 },
 "nbformat": 4,
 "nbformat_minor": 2
}
