{
 "cells": [
  {
   "cell_type": "code",
   "execution_count": 1,
   "metadata": {},
   "outputs": [],
   "source": [
    "import warnings\n",
    "warnings.filterwarnings('ignore')"
   ]
  },
  {
   "cell_type": "code",
   "execution_count": 2,
   "metadata": {},
   "outputs": [
    {
     "data": {
      "text/plain": [
       "True"
      ]
     },
     "execution_count": 2,
     "metadata": {},
     "output_type": "execute_result"
    }
   ],
   "source": [
    "import os \n",
    "from dotenv import load_dotenv\n",
    "load_dotenv()"
   ]
  },
  {
   "cell_type": "code",
   "execution_count": 3,
   "metadata": {},
   "outputs": [],
   "source": [
    "from langchain_google_genai import GoogleGenerativeAI\n",
    "llm1 = GoogleGenerativeAI(model=\"gemini-1.5-flash\")"
   ]
  },
  {
   "cell_type": "code",
   "execution_count": 4,
   "metadata": {},
   "outputs": [],
   "source": [
    "from langchain_google_genai import ChatGoogleGenerativeAI\n",
    "\n",
    "llm2 = ChatGoogleGenerativeAI(model=\"gemini-2.0-flash-exp\")"
   ]
  },
  {
   "cell_type": "code",
   "execution_count": 5,
   "metadata": {},
   "outputs": [
    {
     "name": "stdout",
     "output_type": "stream",
     "text": [
      "KL Rahul is an Indian international cricketer who plays for the Karnataka state team and is a prominent member of the Indian national team.  He's a right-handed batsman and wicket-keeper who is known for his elegant batting style and ability to adapt to various batting positions.\n",
      "\n",
      "Here's a summary of his career highlights and key aspects:\n",
      "\n",
      "* **Batting Style:**  Rahul is a technically sound batsman, comfortable playing both defensively and aggressively. He's particularly adept at playing spin bowling and building innings. While he's shown the ability to play explosive innings, consistency has been a key area of focus in his career.\n",
      "\n",
      "* **Career Trajectory:** He's had a relatively successful international career, representing India in all three formats (Test, ODI, and T20I).  He's achieved significant milestones, including centuries in all three formats. However, his career has also been marked by periods of inconsistency and injury setbacks.\n",
      "\n",
      "* **Key Strengths:**  His elegant strokeplay, ability to anchor an innings, and adaptability to different batting positions are his strengths.\n",
      "\n",
      "* **Areas for Improvement:**  Maintaining consistency across all formats and overcoming injury concerns have been recurring themes in discussions about his career.\n",
      "\n",
      "* **Current Status:**  As of my last update, KL Rahul's career continues.  His exact current playing status (e.g., injury status, selection for upcoming matches) would require checking recent news sources.\n",
      "\n",
      "\n",
      "In short, KL Rahul is a talented cricketer with considerable potential, but his career has been a mix of highs and lows.  His future success will likely depend on maintaining fitness and consistency in his performances.\n",
      "\n"
     ]
    }
   ],
   "source": [
    "messages = [\n",
    "    (\"system\", \"You are an helpful assistant.\"),\n",
    "    (\"human\", \"tell me about KL Rahul\"),\n",
    "]\n",
    "response = llm1.invoke(messages)\n",
    "print(response)"
   ]
  },
  {
   "cell_type": "code",
   "execution_count": 6,
   "metadata": {},
   "outputs": [
    {
     "name": "stdout",
     "output_type": "stream",
     "text": [
      "content=\"Alright, let's talk about Virat Kohli! He's one of the most celebrated and recognized cricketers in the world. Here's a breakdown of what makes him so notable:\\n\\n**Key Aspects of Virat Kohli:**\\n\\n* **Indian Cricketer:** He's a right-handed batsman who represents India in international cricket. He's also a part-time right-arm medium pace bowler.\\n* **Aggressive and Passionate:** Kohli is known for his fierce competitiveness, on-field aggression, and passionate approach to the game. He wears his heart on his sleeve and is incredibly expressive.\\n* **Exceptional Batsman:** He's widely regarded as one of the best batsmen of the modern era. His technique, consistency, and ability to perform under pressure are exceptional. He's known for his ability to chase down high scores and his prolific run-scoring across all formats of the game.\\n* **Leadership:** He captained the Indian national cricket team across all formats (Test, ODI, and T20I) for several years. He led the team to many victories and helped build a culture of success. While he's stepped down from captaincy now, his leadership legacy remains significant.\\n* **Fitness Icon:** Kohli is a fitness enthusiast and has transformed himself into an athletic powerhouse. He's known for his dedication to training and healthy living, inspiring many fans to prioritize their own fitness.\\n* **Huge Global Following:** He's incredibly popular both in India and internationally. He has a massive social media following and is a brand ambassador for numerous companies. His influence transcends the sport of cricket.\\n\\n**Major Achievements and Records:**\\n\\n* **Most ODI Centuries:** He holds the record for the most One Day International (ODI) centuries, surpassing the legendary Sachin Tendulkar.\\n* **Fastest to Many Milestones:** He has reached various batting milestones faster than any other player in history.\\n* **Successful Test Captain:** Under his captaincy, India achieved the number 1 ranking in Test cricket and had a strong run of victories, especially at home.\\n* **Numerous Awards and Accolades:** He has received numerous awards, including the Arjuna Award, the Padma Shri (India's fourth highest civilian award), and the Sir Garfield Sobers Trophy for ICC Cricketer of the Year.\\n* **Consistent Performance:** He has consistently performed well across all formats of the game, which is a testament to his adaptability and skill.\\n\\n**Beyond the Game:**\\n\\n* **Business Ventures:** He's a successful entrepreneur with investments in various sectors.\\n* **Philanthropic Work:** He's involved in charitable work and has his own foundation that focuses on supporting underprivileged children.\\n* **Family Man:** He's married to Bollywood actress Anushka Sharma and has a daughter named Vamika.\\n\\n**In Summary:**\\n\\nVirat Kohli is more than just a cricketer; he's a global icon. His passion, skill, and dedication to the game have made him one of the most influential figures in sports today. He's a role model for many and continues to inspire fans around the world with his performances.\\n\\nIs there anything specific you'd like to know about him? Perhaps his batting style, captaincy record, or his personal life? I'm happy to provide more details.\" additional_kwargs={} response_metadata={'prompt_feedback': {'block_reason': 0, 'safety_ratings': []}, 'finish_reason': 'STOP', 'safety_ratings': [{'category': 'HARM_CATEGORY_HATE_SPEECH', 'probability': 'NEGLIGIBLE', 'blocked': False}, {'category': 'HARM_CATEGORY_DANGEROUS_CONTENT', 'probability': 'NEGLIGIBLE', 'blocked': False}, {'category': 'HARM_CATEGORY_HARASSMENT', 'probability': 'NEGLIGIBLE', 'blocked': False}, {'category': 'HARM_CATEGORY_SEXUALLY_EXPLICIT', 'probability': 'NEGLIGIBLE', 'blocked': False}]} id='run-cf7fa523-3afb-4cd1-9fbe-a348ce6b28fd-0' usage_metadata={'input_tokens': 13, 'output_tokens': 682, 'total_tokens': 695, 'input_token_details': {'cache_read': 0}}\n"
     ]
    }
   ],
   "source": [
    "messages = [\n",
    "    (\"system\", \"You are an helpful assistant.\"),\n",
    "    (\"human\", \"tell me about Virat Kohili\"),\n",
    "]\n",
    "response = llm2.invoke(messages)\n",
    "print(response)"
   ]
  },
  {
   "cell_type": "markdown",
   "metadata": {},
   "source": [
    "DATA lOADING BEGINS"
   ]
  },
  {
   "cell_type": "markdown",
   "metadata": {},
   "source": [
    "Textloader"
   ]
  },
  {
   "cell_type": "code",
   "execution_count": 7,
   "metadata": {},
   "outputs": [],
   "source": [
    "# Txt data loading\n",
    "from langchain_community.document_loaders import TextLoader\n",
    "\n",
    "loader = TextLoader(\"data/be-good.txt\")\n",
    "loaded_data = loader.load()"
   ]
  },
  {
   "cell_type": "code",
   "execution_count": 8,
   "metadata": {},
   "outputs": [
    {
     "name": "stdout",
     "output_type": "stream",
     "text": [
      "[Document(metadata={'source': 'data/be-good.txt'}, page_content='Be good\\n\\nApril 2008(This essay is derived from a talk at the 2008 Startup School.)About a month after we started Y Combinator we came up with the\\nphrase that became our motto: Make something people want.  We\\'ve\\nlearned a lot since then, but if I were choosing now that\\'s still\\nthe one I\\'d pick.Another thing we tell founders is not to worry too much about the\\nbusiness model, at least at first.  Not because making money is\\nunimportant, but because it\\'s so much easier than building something\\ngreat.A couple weeks ago I realized that if you put those two ideas\\ntogether, you get something surprising.  Make something people want.\\nDon\\'t worry too much about making money.  What you\\'ve got is a\\ndescription of a charity.When you get an unexpected result like this, it could either be a\\nbug or a new discovery.  Either businesses aren\\'t supposed to be\\nlike charities, and we\\'ve proven by reductio ad absurdum that one\\nor both of the principles we began with is false.  Or we have a new\\nidea.I suspect it\\'s the latter, because as soon as this thought occurred\\nto me, a whole bunch of other things fell into place.ExamplesFor example, Craigslist.  It\\'s not a charity, but they run it like\\none.  And they\\'re astoundingly successful.  When you scan down the\\nlist of most popular web sites, the number of employees at Craigslist\\nlooks like a misprint. Their revenues aren\\'t as high as they could\\nbe, but most startups would be happy to trade places with them.In Patrick O\\'Brian\\'s novels, his captains always try to get upwind\\nof their opponents.  If you\\'re upwind, you decide when and if to\\nengage the other ship.  Craigslist is effectively upwind of enormous\\nrevenues.  They\\'d face some challenges if they wanted to make more,\\nbut not the sort you face when you\\'re tacking upwind, trying to\\nforce a crappy product on ambivalent users by spending ten times\\nas much on sales as on development.  [1]I\\'m not saying startups should aim to end up like Craigslist.\\nThey\\'re a product of unusual circumstances.  But they\\'re a good\\nmodel for the early phases.Google looked a lot like a charity in the beginning. They didn\\'t\\nhave ads for over a year.  At year 1, Google was indistinguishable\\nfrom a nonprofit.  If a nonprofit or government organization had\\nstarted a project to index the web, Google at year 1 is the limit\\nof what they\\'d have produced.Back when I was working on spam filters I thought it would be a\\ngood idea to have a web-based email service with good spam filtering.\\nI wasn\\'t thinking of it as a company.  I just wanted to keep people\\nfrom getting spammed.  But as I thought more about this project, I\\nrealized it would probably have to be a company.  It would cost\\nsomething to run, and it would be a pain to fund with grants and\\ndonations.That was a surprising realization.  Companies often claim to be\\nbenevolent, but it was surprising to realize there were purely\\nbenevolent projects that had to be embodied as companies to work.I didn\\'t want to start another company, so I didn\\'t do it.  But if\\nsomeone had, they\\'d probably be quite rich now.  There was a window\\nof about two years when spam was increasing rapidly but all the big\\nemail services had terrible filters.  If someone had launched a\\nnew, spam-free mail service, users would have flocked to it.Notice the pattern here?  From either direction we get to the same\\nspot.  If you start from successful startups, you find they often\\nbehaved like nonprofits.  And if you start from ideas for nonprofits,\\nyou find they\\'d often make good startups.PowerHow wide is this territory?  Would all good nonprofits be good\\ncompanies?  Possibly not.  What makes Google so valuable is that\\ntheir users have money.  If you make people with money love you,\\nyou can probably get some of it.  But could you also base a successful\\nstartup on behaving like a nonprofit to people who don\\'t have money?\\nCould you, for example, grow a successful startup out of curing an\\nunfashionable but deadly disease like malaria?I\\'m not sure, but I suspect that if you pushed this idea, you\\'d be\\nsurprised how far it would go.  For example, people who apply to Y\\nCombinator don\\'t generally have much money, and yet we can profit\\nby helping them, because with our help they could make money.  Maybe\\nthe situation is similar with malaria.  Maybe an organization that\\nhelped lift its weight off a country could benefit from the resulting\\ngrowth.I\\'m not proposing this is a serious idea.  I don\\'t know anything\\nabout malaria.  But I\\'ve been kicking ideas around long enough to\\nknow when I come across a powerful one.One way to guess how far an idea extends is to ask yourself at what\\npoint you\\'d bet against it.  The thought of betting against benevolence\\nis alarming in the same way as saying that something is technically\\nimpossible.  You\\'re just asking to be made a fool of, because these\\nare such powerful forces.  [2]For example, initially I thought maybe this principle only applied\\nto Internet startups.  Obviously it worked for Google, but what\\nabout Microsoft?  Surely Microsoft isn\\'t benevolent?  But when I\\nthink back to the beginning, they were.  Compared to IBM they were\\nlike Robin Hood.  When IBM introduced the PC, they thought they\\nwere going to make money selling hardware at high prices.  But by\\ngaining control of the PC standard, Microsoft opened up the market\\nto any manufacturer.  Hardware prices plummeted, and lots of people\\ngot to have computers who couldn\\'t otherwise have afforded them.\\nIt\\'s the sort of thing you\\'d expect Google to do.Microsoft isn\\'t so benevolent now.  Now when one thinks of what\\nMicrosoft does to users, all the verbs that come to mind begin with\\nF.  [3] And yet it doesn\\'t seem to pay.\\nTheir stock price has been flat for years.  Back when they were\\nRobin Hood, their stock price rose like Google\\'s.  Could there be\\na connection?You can see how there would be.  When you\\'re small, you can\\'t bully\\ncustomers, so you have to charm them.  Whereas when you\\'re big you\\ncan maltreat them at will, and you tend to, because it\\'s easier\\nthan satisfying them.  You grow big by being nice, but you can stay\\nbig by being mean.You get away with it till the underlying conditions change, and\\nthen all your victims escape.  So \"Don\\'t be evil\" may be the most\\nvaluable thing Paul Buchheit made for Google, because it may turn\\nout to be an elixir of corporate youth.  I\\'m sure they find it\\nconstraining, but think how valuable it will be if it saves them\\nfrom lapsing into the fatal laziness that afflicted Microsoft and\\nIBM.The curious thing is, this elixir is freely available to any other\\ncompany.  Anyone can adopt \"Don\\'t be evil.\"  The catch is that\\npeople will hold you to it.  So I don\\'t think you\\'re going to see\\nrecord labels or tobacco companies using this discovery.MoraleThere\\'s a lot of external evidence that benevolence works.  But how\\ndoes it work?  One advantage of investing in a large number of\\nstartups is that you get a lot of data about how they work.  From\\nwhat we\\'ve seen, being good seems to help startups in three ways:\\nit improves their morale, it makes other people want to help them,\\nand above all, it helps them be decisive.Morale is tremendously important to a startup—so important\\nthat morale alone is almost enough to determine success.  Startups\\nare often described as emotional roller-coasters. One minute you\\'re\\ngoing to take over the world, and the next you\\'re doomed.  The\\nproblem with feeling you\\'re doomed is not just that it makes you\\nunhappy, but that it makes you stop working.  So the downhills\\nof the roller-coaster are more of a self fulfilling prophecy than\\nthe uphills.  If feeling you\\'re going to succeed makes you work\\nharder, that probably improves your chances of succeeding, but if\\nfeeling you\\'re going to fail makes you stop working, that practically\\nguarantees you\\'ll fail.Here\\'s where benevolence comes in.  If you feel you\\'re really helping\\npeople, you\\'ll keep working even when it seems like your startup\\nis doomed.  Most of us have some amount of natural benevolence.\\nThe mere fact that someone needs you makes you want to help them.\\nSo if you start the kind of startup where users come back each day,\\nyou\\'ve basically built yourself a giant tamagotchi.  You\\'ve made\\nsomething you need to take care of.Blogger is a famous example of a startup that went through really\\nlow lows and survived.  At one point they ran out of money and\\neveryone left. Evan Williams came in to work the next day, and there\\nwas no one but him.  What kept him going?  Partly that users needed\\nhim.  He was hosting thousands of people\\'s blogs. He couldn\\'t just\\nlet the site die.There are many advantages of launching quickly, but the most important\\nmay be that once you have users, the tamagotchi effect kicks in.\\nOnce you have users to take care of, you\\'re forced to figure out\\nwhat will make them happy, and that\\'s actually very valuable\\ninformation.The added confidence that comes from trying to help people can\\nalso help you with investors. One of the founders of \\nChatterous told \\nme recently that he and his cofounder had decided that this service\\nwas something the world needed, so they were going to keep working\\non it no matter what, even if they had to move back to Canada and live\\nin their parents\\' basements.Once they realized this, they stopped caring so much what investors thought\\nabout them.  They still met with them, but they weren\\'t going to\\ndie if they didn\\'t get their money.  And you know what?  The investors\\ngot a lot more interested.  They could sense that the Chatterouses\\nwere going to do this startup with or without them.If you\\'re really committed and your startup is cheap to run, you\\nbecome very hard to kill.  And practically all startups, even the\\nmost successful, come close to death at some point.  So if doing\\ngood for people gives you a sense of mission that makes you harder\\nto kill, that alone more than compensates for whatever you lose by\\nnot choosing a more selfish project.HelpAnother advantage of being good is that it makes other people want\\nto help you.  This too seems to be an inborn trait in humans.One of the startups we\\'ve funded, Octopart, is currently locked in\\na classic battle of good versus evil.  They\\'re a search site for\\nindustrial components.  A lot of people need to search for components,\\nand before Octopart there was no good way to do it.  That, it turned\\nout, was no coincidence.Octopart built the right way to search for components.  Users like\\nit and they\\'ve been growing rapidly.  And yet for most of Octopart\\'s\\nlife, the biggest distributor, Digi-Key, has been trying to force\\nthem take their prices off the site.  Octopart is sending them\\ncustomers for free, and yet Digi-Key is trying to make that traffic\\nstop.  Why?  Because their current business model depends on\\novercharging people who have incomplete information about prices.\\nThey don\\'t want search to work.The Octoparts are the nicest guys in the world.  They dropped out\\nof the PhD program in physics at Berkeley to do this.  They just\\nwanted to fix a problem they encountered in their research.  Imagine\\nhow much time you could save the world\\'s engineers if they could\\ndo searches online.  So when I hear that a big, evil company is\\ntrying to stop them in order to keep search broken, it makes me\\nreally want to help them. It makes me spend more time on the Octoparts\\nthan I do with most of the other startups we\\'ve funded.  It just\\nmade me spend several minutes telling you how great they are.  Why?\\nBecause they\\'re good guys and they\\'re trying to help the world.If you\\'re benevolent, people will rally around you: investors,\\ncustomers, other companies, and potential employees.  In the long\\nterm the most important may be the potential employees.  I think\\neveryone knows now that \\ngood hackers are much better than mediocre\\nones.  If you can attract the best hackers to work for you, as\\nGoogle has, you have a big advantage.  And the very best hackers\\ntend to be idealistic.  They\\'re not desperate for a job.  They can\\nwork wherever they want.  So most want to work on things that will\\nmake the world better.CompassBut the most important advantage of being good is that it acts as\\na compass.  One of the hardest parts of doing a startup is that you\\nhave so many choices.  There are just two or three of you, and a\\nthousand things you could do. How do you decide?Here\\'s the answer: Do whatever\\'s best for your users.  You can hold\\nonto this like a rope in a hurricane, and it will save you if\\nanything can.  Follow it and it will take you through everything\\nyou need to do.It\\'s even the answer to questions that seem unrelated, like how to\\nconvince investors to give you money.  If you\\'re a good salesman,\\nyou could try to just talk them into it.  But the more reliable\\nroute is to convince them through your users: if you make something\\nusers love enough to tell their friends, you grow exponentially,\\nand that will convince any investor.Being good is a particularly useful strategy for making decisions\\nin complex situations because it\\'s stateless.  It\\'s like telling\\nthe truth.  The trouble with lying is that you have to remember\\neverything you\\'ve said in the past to make sure you don\\'t contradict\\nyourself.  If you tell the truth you don\\'t have to remember anything,\\nand that\\'s a really useful property in domains where things happen\\nfast.For example, Y Combinator has now invested in 80 startups, 57 of\\nwhich are still alive.  (The rest have died or merged or been\\nacquired.)  When you\\'re trying to advise 57 startups, it turns out\\nyou have to have a stateless algorithm.  You can\\'t have ulterior\\nmotives when you have 57 things going on at once, because you can\\'t\\nremember them.  So our rule is just to do whatever\\'s best for the\\nfounders.  Not because we\\'re particularly benevolent, but because\\nit\\'s the only algorithm that works on that scale.When you write something telling people to be good, you seem to be\\nclaiming to be good yourself.  So I want to say explicitly that I\\nam not a particularly good person.  When I was a kid I was firmly\\nin the camp of bad.  The way adults used the word good, it seemed\\nto be synonymous with quiet, so I grew up very suspicious of it.You know how there are some people whose names come up in conversation\\nand everyone says \"He\\'s such a great guy?\"  People never say\\nthat about me.  The best I get is \"he means well.\"  I am not claiming\\nto be good.  At best I speak good as a second language.So I\\'m not suggesting you be good in the usual sanctimonious way.\\nI\\'m suggesting it because it works.  It will work not just as a\\nstatement of \"values,\" but as a guide to strategy,\\nand even a design spec for software.  Don\\'t just not be evil.  Be\\ngood.Notes[1] Fifty years ago\\nit would have seemed shocking for a public company not to pay\\ndividends.  Now many tech companies don\\'t.  The markets seem to\\nhave figured out how to value potential dividends.  Maybe that isn\\'t\\nthe last step in this evolution.  Maybe markets will eventually get\\ncomfortable with potential earnings. (VCs already are, and at least\\nsome of them consistently make money.)I realize this sounds like the stuff one used to hear about the\\n\"new economy\" during the Bubble.  Believe me, I was not drinking\\nthat kool-aid at the time.  But I\\'m convinced there were some \\ngood\\nideas buried in Bubble thinking.  For example, it\\'s ok to focus on\\ngrowth instead of profits—but only if the growth is genuine.\\nYou can\\'t be buying users; that\\'s a pyramid scheme.   But a company\\nwith rapid, genuine growth is valuable, and eventually markets learn\\nhow to value valuable things.[2] The idea of starting\\na company with benevolent aims is currently undervalued, because\\nthe kind of people who currently make that their explicit goal don\\'t\\nusually do a very good job.It\\'s one of the standard career paths of trustafarians to start\\nsome vaguely benevolent business.  The problem with most of them\\nis that they either have a bogus political agenda or are feebly\\nexecuted.  The trustafarians\\' ancestors didn\\'t get rich by preserving\\ntheir traditional culture; maybe people in Bolivia don\\'t want to\\neither.  And starting an organic farm, though it\\'s at least\\nstraightforwardly benevolent, doesn\\'t help people on the scale that\\nGoogle does.Most explicitly benevolent projects don\\'t hold themselves sufficiently\\naccountable.  They act as if having good intentions were enough to\\nguarantee good effects.[3] Users dislike their\\nnew operating system so much that they\\'re starting petitions to\\nsave the old one.  And the old one was nothing special.  The hackers\\nwithin Microsoft must know in their hearts that if the company\\nreally cared about users they\\'d just advise them to switch to OSX.Thanks to Trevor Blackwell, Paul Buchheit, Jessica Livingston,\\nand Robert Morris for reading drafts of this.')]\n"
     ]
    }
   ],
   "source": [
    "print(loaded_data)"
   ]
  },
  {
   "cell_type": "markdown",
   "metadata": {},
   "source": [
    "CSVloader"
   ]
  },
  {
   "cell_type": "code",
   "execution_count": 9,
   "metadata": {},
   "outputs": [],
   "source": [
    "# CSV loader\n",
    "\n",
    "from langchain_community.document_loaders import CSVLoader\n",
    "\n",
    "loader = CSVLoader('./data/Street_Tree_List.csv')\n",
    "\n",
    "loaded_data = loader.load()\n",
    "# loaded_data"
   ]
  },
  {
   "cell_type": "markdown",
   "metadata": {},
   "source": [
    "HTMLUNSTRUCTUREDdata"
   ]
  },
  {
   "cell_type": "code",
   "execution_count": 13,
   "metadata": {},
   "outputs": [],
   "source": [
    "from langchain_community.document_loaders import UnstructuredHTMLLoader\n",
    "\n",
    "loader = UnstructuredHTMLLoader('./data/100-startups.html')\n",
    "\n",
    "data = loader.load()"
   ]
  },
  {
   "cell_type": "code",
   "execution_count": 20,
   "metadata": {},
   "outputs": [
    {
     "data": {
      "text/plain": [
       "[Document(metadata={'source': './data/100-startups.html'}, page_content='Posted on October 5, 2023\\n\\nAI Accelera\\n\\nNo Comments\\n\\nThe new book “100 AI Startups” by Julio Colomer presents 100 new Artificial Intelligence companies that have earned at least $500,000 in their first year of existence and are radically changing how things are done in over 30 sectors, including banking, insurance, health, education, legal, logistics, marketing, sales, customer service, and even in public administration.\\n\\nThese 100 startups from Silicon Valley show how the fastest-growing area among the new Artificial Intelligence companies are the new LLM Apps (LLM Apps), which are changing every sector and areas of the company.\\n\\nIt’s not science fiction. There are already startups with LLM Applications that have earned more than $500,000 before their first year of existence by doing this:\\n\\nImproving the effectiveness of surgeons.\\n\\nCustomer service in banks.\\n\\nTutoring for students.\\n\\nLegal recommendations.\\n\\nStock analysis.\\n\\nDelivering physiotherapy sessions.\\n\\nFinding new clients.\\n\\nImmigration management.\\n\\nAudits.\\n\\nManaging contracts with Public Administration.\\n\\nManaging construction projects.\\n\\nEvent organization.\\n\\nManaging defaults.\\n\\nAnswering (yes, answering) surveys.\\n\\nGenerating news.\\n\\nNegotiating a sales contract.\\n\\nValuing a company.\\n\\nTaking notes in meetings.\\n\\n“Once again the future is being invented in Silicon Valley. And this time with an intensity not seen since the first wave of the Internet,” comments Julio Colomer.\\n\\n“In this wave, it’s not just venture capitalists, accelerators, and startups that are involved. All the major tech companies, from Microsoft to Google, including Apple, Facebook, Tesla, and Salesforce, have jumped in with multimillion-dollar investments in Generative Artificial Intelligence. We haven’t seen such unanimous interest in the last twenty years.”\\n\\nBeyond the initial interest generated by the launch of ChatGPT, little is known by the general public about how AI can be used to make money, be more productive, or live better.\\n\\n“The importance of this book is that it helps visualize what can already be done with the new Generative Artificial Intelligence. This is valuable not only for entrepreneurs looking for ideas but for executives and professionals from all sectors who want to advance in their professional careers.”\\n\\n“This book confirms the changes we announced in the previous book, Keys to Artificial Intelligence:\\n\\nFirst, that the new Artificial Intelligence inherits from Machine Learning and Data Science but is not the same. One is mistaken to think that the professional skills needed to build the new LLM Applications are the same as those needed for data analysis or a prediction model.\\n\\nSecond, that today the key is the LLM Applications, which ride on the backs of the Foundation LLMs (ChatGPT, Llama2, etc.) combining them with external data sources and APIs.\\n\\nThird, that the development of LLM Applications is experiencing exponential growth in the United States and will soon reach other countries: every company wants to have LLM Applications. This opens an excellent employment opportunity for those who enter this new field.”\\n\\nYou can see the table of contents of the book “100 AI Startups” here.\\n\\nThe books “100 AI Startups” and “Keys to Artificial Intelligence” can be found on Amazon.\\n\\n“We are in a new world. LLM Applications use methods and tools that were practically unknown three years ago: embeddings, vector databases, orchestration frameworks, LLM cache, prompt engineering, etc.”\\n\\nThe AI Accelerator (aceleradoraAI.com), with a presence in Spain, Latin America, and the United States, offers courses to learn how to create LLM Applications and other related services such as:\\n\\nDevelopment of LLM Applications for companies.\\n\\nDevelopment of LLM Applications for startups.\\n\\nArtificial Intelligence consulting services for companies.\\n\\nArtificial Intelligence training services for companies.\\n\\nStaff selection to form AI Teams in the company.\\n\\nTechnical support for entrepreneurs wanting to create an AI startup.\\n\\nAI Test Field: connecting entrepreneurs and junior developers.\\n\\nFor more information, visit the AI Accelera website.\\n\\nFor each of the 100 startups analyzed in the book “100 IA Startups“, it details:\\n\\nProblem solved.\\n\\nProposed solution.\\n\\nTechnical analysis.\\n\\nIdentifying data of the company, its website, and its founders.\\n\\nThe startup presented in the book use LLM Applications to solve the described problems. If you are interested in learning more about LLM Applications or Artificial Intelligence applied to the company, here are some interesting links:\\n\\nCourses and Bootcamps to learn to create LLM Applications.\\n\\nDevelopment of LLM Applications for your company.\\n\\nDevelopment of LLM Applications for a new startup.\\n\\nArtificial Intelligence consulting for businesses.\\n\\nIn-Company custom Artificial Intelligence training.\\n\\nSelection of Artificial Intelligence professionals, LLM Applications, Machine Learning, and Data Science for businesses.\\n\\nExperimental projects of LLM Applications: contact between entrepreneurs and junior developers.\\n\\nWe are looking for entrepreneurs interested in creating startups based on LLM Applications. We provide technical assistance and monitoring.\\n\\nWe are looking for collaborators: Do you work in a training center, a consultancy/advisory service, or in a support center for entrepreneurs? We are interested in talking to you.\\n\\nPost Tags Post TagsAIartificial intelligence\\n\\nRelated Posts\\n\\nReal Case: Your new doctor is an Artificial Intelligence Agent.\\n\\n2023\\n\\nReal Case: Your child’s new tutor is an Artificial Intelligence Agent.\\n\\n2023\\n\\nReal Case: An Artificial Intelligence Agent takes over End-to-End testing for software applications.\\n\\n2023\\n\\nReal Case: An Artificial Intelligence Agent to find opportunities to contract with the Government.\\n\\n2023\\n\\nGo to the Main Page of our Blog')]"
      ]
     },
     "execution_count": 20,
     "metadata": {},
     "output_type": "execute_result"
    }
   ],
   "source": [
    "data"
   ]
  },
  {
   "cell_type": "markdown",
   "metadata": {},
   "source": [
    "PDF LOADER"
   ]
  },
  {
   "cell_type": "code",
   "execution_count": 17,
   "metadata": {},
   "outputs": [],
   "source": [
    "# Pdf data\n",
    "\n",
    "from langchain_community.document_loaders import PyPDFLoader\n",
    "\n",
    "loader = PyPDFLoader('./data/5pages.pdf')\n",
    "data1 = loader.load_and_split()"
   ]
  },
  {
   "cell_type": "code",
   "execution_count": 19,
   "metadata": {},
   "outputs": [
    {
     "data": {
      "text/plain": [
       "[Document(metadata={'source': './data/5pages.pdf', 'page': 0}, page_content='Page 1 of 4 \\nPDF Files \\nScan – Create – Reduce File Size  \\n \\n \\nIt is recommended that you purchase an Adobe Acrobat product that \\nallows you to read, create and manipulate PDF documents.  Go to \\nhttp://www.adobe.com/products/acrobat/matrix.html to compare \\nAdobe products and features –Adobe Acrobat Standard is sufficient. \\n \\n \\nScanning Documents \\n \\nYou should only have to scan documents that are not electronic, and \\nwhen you are unable to create a PDF using PDFMaker or the Print \\nCommand from the application you are using.   \\n \\nSignature Pages \\nIf you have a document such as a CV that requires a signature on a \\npage only print the page that requires the signature –printing the \\nentire document and scanning it is not necessary or desired.  Once you \\nsign and scan the signature page you can combine it with the original \\ndocument using the Create PDF From Multiple Files feature. \\n \\nScanner Settings \\nBefore scanning documents remember to make certain that the \\nfollowing settings are activated on your scanner (settings may vary): \\n\\x83 Document Mode \\n\\x83 Scan to smallest size \\n\\x83 Fast (lowest quality) \\n\\x83 Grayscale or black and white  \\n\\x83 Resolution: 300dpi or less'),\n",
       " Document(metadata={'source': './data/5pages.pdf', 'page': 1}, page_content='Page 2 of 4 \\nCreating PDF Documents \\n \\n \\nOption 1 – Use Adobe PDF Printer Command: \\nIn many authoring applications, you can use the Print command with \\nthe Adobe PDF printer to convert your file to PDF.  \\n \\nCreate a PDF using the Print command (Windows) \\n1. Open the file in its authoring application, and choose File > Print. \\n2. Choose Adobe PDF from the printer menu. \\n \\n \\n \\n3. Click the Properties (or Preferences) button to customize the Adobe \\nPDF printer setting. (In some applications, you may need to click \\nSetup in the Print dialog box to open the list of printers, and then click \\nProperties or Preferences.)  Choose Smallest File Size as your default \\nsetting. \\n \\n \\n \\n4. In the Print dialog box, click OK and Save your file. \\n \\n \\n \\nCreate a PDF using the Print command (Mac OS) \\n1. Open the file in its authoring application, and choose File > Print. \\n2. Click on the PDF button in the Print window. \\n3. Click Save as PDF.'),\n",
       " Document(metadata={'source': './data/5pages.pdf', 'page': 2}, page_content='Page 3 of 4 \\nCreating PDF Documents (continued) \\n \\nOption 2: If you do not have Acrobat Standard or higher \\ninstalled use PS2PSF.*  \\n \\n \\n \\n \\n \\n \\n1. Open the file in its authoring application, and choose File > Print. \\n2. Select “Print to File” and save. \\n3. Open your browser and go to http://ps2pdf.com/convert.htm \\n4. Click “browse” select the file you created in step 2 (.prn or .ps), \\nclick “convert” \\n5. Download the newly created PDF file. \\n*Note: Some formatting changes may occur once converted (bullets \\nmay turn to symbols and color may become black and white).'),\n",
       " Document(metadata={'source': './data/5pages.pdf', 'page': 3}, page_content='Page 4 of 4 \\nReducing File Size Options \\n \\n*WebDCU will accept files up to 2.0MB.* \\n \\nHere is a rough estimate for PDF file sizes: \\nIf the contents are pure text, like a CV, the file size is usually 10kb per \\npage; therefore, a 1MB file will have about 100 pages.  If the file \\nincludes some pictures, the file size may increase. If the file is a \\npicture, like a scanned license or certification, you may have different \\nfile sizes based on the picture quality.  In most cases, saving the file at \\nabout 250kb per page should be enough to generate a clear picture. \\n \\nOption 1 – Use Adobe PDF Print Command: \\n1. Open the PDF file, and choose File > Print. \\n2. Choose Adobe PDF from the printer menu next to Name. \\n3. Click the Properties (or Preferences) button to customize the Adobe \\nPDF printer setting. (In some applications, you may need to click \\nSetup in the Print dialog box to open the list of printers, and then click \\nProperties or Preferences.)  Choose Smallest File Size as your default \\nsetting. \\n4. In the Print dialog box, click OK.   \\n5. Save the new (smaller) PDF file. \\n \\n \\nOption 2 – Use Adobe PDF “Reduce File Size”: \\n1. Open the file in Adobe Acrobat and choose File > Reduce File Size...  \\n2. For our purposes, please make these files \"compatible with\" version \\nAcrobat 5.0 or later. \\n3. Save the new (smaller) PDF file.')]"
      ]
     },
     "execution_count": 19,
     "metadata": {},
     "output_type": "execute_result"
    }
   ],
   "source": [
    "data1"
   ]
  },
  {
   "cell_type": "code",
   "execution_count": 21,
   "metadata": {},
   "outputs": [
    {
     "data": {
      "text/plain": [
       "'Page 1 of 4 \\nPDF Files \\nScan – Create – Reduce File Size  \\n \\n \\nIt is recommended that you purchase an Adobe Acrobat product that \\nallows you to read, create and manipulate PDF documents.  Go to \\nhttp://www.adobe.com/products/acrobat/matrix.html to compare \\nAdobe products and features –Adobe Acrobat Standard is sufficient. \\n \\n \\nScanning Documents \\n \\nYou should only have to scan documents that are not electronic, and \\nwhen you are unable to create a PDF using PDFMaker or the Print \\nCommand from the application you are using.   \\n \\nSignature Pages \\nIf you have a document such as a CV that requires a signature on a \\npage only print the page that requires the signature –printing the \\nentire document and scanning it is not necessary or desired.  Once you \\nsign and scan the signature page you can combine it with the original \\ndocument using the Create PDF From Multiple Files feature. \\n \\nScanner Settings \\nBefore scanning documents remember to make certain that the \\nfollowing settings are activated on your scanner (settings may vary): \\n\\x83 Document Mode \\n\\x83 Scan to smallest size \\n\\x83 Fast (lowest quality) \\n\\x83 Grayscale or black and white  \\n\\x83 Resolution: 300dpi or less'"
      ]
     },
     "execution_count": 21,
     "metadata": {},
     "output_type": "execute_result"
    }
   ],
   "source": [
    "data1[0].page_content"
   ]
  },
  {
   "cell_type": "markdown",
   "metadata": {},
   "source": [
    "WIKI"
   ]
  },
  {
   "cell_type": "code",
   "execution_count": 22,
   "metadata": {},
   "outputs": [
    {
     "name": "stdout",
     "output_type": "stream",
     "text": [
      "In intelligence and artificial intelligence, an intelligent agent (IA) is an agent that perceives its environment, takes actions autonomously in order to achieve goals, and may improve its performance with learning or acquiring knowledge. Agentic AI, a subset of intelligent agents, expands this concept by autonomously pursuing goals, making decisions, and taking actions over extended periods, effectively embodying a novel form of digital agency.\n",
      "An intelligent agent may be simple or complex: A thermostat or other control system is considered an example of an intelligent agent, as is a human being, as is any system that meets the definition, such as a firm, a state, or a biome.\n",
      "\n",
      "Leading AI textbooks define \"artificial intelligence\" as the \"study and design of intelligent agents\", a definition that considers goal-directed behavior to be the essence of intelligence. Goal-directed agents are also described using a term borrowed from economics, \"rational agent\".\n",
      "An agent has an \"objective function\" that encapsulates all the IA's goals. Such an agent is designed to create and execute whatever plan will, upon completion, maximize the expected value of the objective function. \n",
      "For example, a reinforcement learning agent has a \"reward function\" that allows the programmers to shape the IA's desired behavior, and an evolutionary algorithm's behavior is shaped by a \"fitness function\". \n",
      "Intelligent agents in artificial intelligence are closely related to agents in economics, and versions of the intelligent agent paradigm are studied in cognitive science, ethics, and the philosophy of practical reason, as well as in many interdisciplinary socio-cognitive modeling and computer social simulations.\n",
      "Intelligent agents are often described schematically as an abstract functional system similar to a computer program. \n",
      "Abstract descriptions of intelligent agents are called abstract intelligent agents (AIA) to distinguish them from their real-world implementations. \n",
      "An autonomous intelligent agent is designed to function in the absence of human intervention. Intelligent agents are also closely related to software agents. An autonomous computer program that carries out tasks on behalf of users.\n",
      "\n",
      "\n",
      "== As a definition of artificial intelligence ==\n",
      "Artificial Intelligence: A Modern Approach defines an \"agent\" as \n",
      "\n",
      "\"Anything that can be viewed as perceiving its environment through sensors and acting upon that environment through actuators\"\n",
      "It defines a \"rational agent\" as:\n",
      "\n",
      "\"An agent that acts so as to maximize the expected value of a performance measure based on past experience and knowledge.\"\n",
      "It also defines the field of \"artificial intelligence research\" as:\n",
      "\n",
      "\"The study and design of rational agents\"\n",
      "Padgham & Winikoff (2005) agree that an intelligent agent is situated in an environment and responds in a timely (though not necessarily real-time) manner to changes in the environment. However, intelligent agents must also proactively pursue goals in a flexible and robust way. Optional desiderata include that the agent be rational, and that the agent be capable of belief-desire-intention analysis.\n",
      "Kaplan and Haenlein define artificial intelligence as \"a system's ability to correctly interpret external data, to learn from such data, and to use those learnings to achieve specific goals and tasks through flexible adaptation\". This definition is closely related to that of an intelligent agent.\n",
      "\n",
      "\n",
      "=== Advantages ===\n",
      "\n",
      "Philosophically, this definition of artificial intelligence avoids several lines of criticism. Unlike the Turing test, it does not refer to human intelligence in any way. Thus, there is no need to discuss if it is \"real\" vs \"simulated\" intelligence (i.e., \"synthetic\" vs \"artificial\" intelligence) and does not indicate that such a machine has a mind, consciousness or true understanding. It seems not to imply John Searle's \"strong AI hypothesis\". It also doesn't attempt to draw a sharp dividing line between behaviors that are \"intelligent\" and behavi\n"
     ]
    }
   ],
   "source": [
    "from langchain_community.document_loaders import WikipediaLoader\n",
    "\n",
    "loader = WikipediaLoader(query=\"AgenticAI\", load_max_docs=1)\n",
    "loaded_data = loader.load()\n",
    "\n",
    "if loaded_data:  # Check if data is available\n",
    "    page_content = loaded_data[0].page_content\n",
    "    print(page_content)\n",
    "else:\n",
    "    print(\"No Wikipedia articles found for the given query.\")\n"
   ]
  },
  {
   "cell_type": "code",
   "execution_count": 23,
   "metadata": {},
   "outputs": [
    {
     "data": {
      "text/plain": [
       "[Document(metadata={'title': 'Intelligent agent', 'summary': 'In intelligence and artificial intelligence, an intelligent agent (IA) is an agent that perceives its environment, takes actions autonomously in order to achieve goals, and may improve its performance with learning or acquiring knowledge. Agentic AI, a subset of intelligent agents, expands this concept by autonomously pursuing goals, making decisions, and taking actions over extended periods, effectively embodying a novel form of digital agency.\\nAn intelligent agent may be simple or complex: A thermostat or other control system is considered an example of an intelligent agent, as is a human being, as is any system that meets the definition, such as a firm, a state, or a biome.\\n\\nLeading AI textbooks define \"artificial intelligence\" as the \"study and design of intelligent agents\", a definition that considers goal-directed behavior to be the essence of intelligence. Goal-directed agents are also described using a term borrowed from economics, \"rational agent\".\\nAn agent has an \"objective function\" that encapsulates all the IA\\'s goals. Such an agent is designed to create and execute whatever plan will, upon completion, maximize the expected value of the objective function. \\nFor example, a reinforcement learning agent has a \"reward function\" that allows the programmers to shape the IA\\'s desired behavior, and an evolutionary algorithm\\'s behavior is shaped by a \"fitness function\". \\nIntelligent agents in artificial intelligence are closely related to agents in economics, and versions of the intelligent agent paradigm are studied in cognitive science, ethics, and the philosophy of practical reason, as well as in many interdisciplinary socio-cognitive modeling and computer social simulations.\\nIntelligent agents are often described schematically as an abstract functional system similar to a computer program. \\nAbstract descriptions of intelligent agents are called abstract intelligent agents (AIA) to distinguish them from their real-world implementations. \\nAn autonomous intelligent agent is designed to function in the absence of human intervention. Intelligent agents are also closely related to software agents. An autonomous computer program that carries out tasks on behalf of users.\\n\\n', 'source': 'https://en.wikipedia.org/wiki/Intelligent_agent'}, page_content='In intelligence and artificial intelligence, an intelligent agent (IA) is an agent that perceives its environment, takes actions autonomously in order to achieve goals, and may improve its performance with learning or acquiring knowledge. Agentic AI, a subset of intelligent agents, expands this concept by autonomously pursuing goals, making decisions, and taking actions over extended periods, effectively embodying a novel form of digital agency.\\nAn intelligent agent may be simple or complex: A thermostat or other control system is considered an example of an intelligent agent, as is a human being, as is any system that meets the definition, such as a firm, a state, or a biome.\\n\\nLeading AI textbooks define \"artificial intelligence\" as the \"study and design of intelligent agents\", a definition that considers goal-directed behavior to be the essence of intelligence. Goal-directed agents are also described using a term borrowed from economics, \"rational agent\".\\nAn agent has an \"objective function\" that encapsulates all the IA\\'s goals. Such an agent is designed to create and execute whatever plan will, upon completion, maximize the expected value of the objective function. \\nFor example, a reinforcement learning agent has a \"reward function\" that allows the programmers to shape the IA\\'s desired behavior, and an evolutionary algorithm\\'s behavior is shaped by a \"fitness function\". \\nIntelligent agents in artificial intelligence are closely related to agents in economics, and versions of the intelligent agent paradigm are studied in cognitive science, ethics, and the philosophy of practical reason, as well as in many interdisciplinary socio-cognitive modeling and computer social simulations.\\nIntelligent agents are often described schematically as an abstract functional system similar to a computer program. \\nAbstract descriptions of intelligent agents are called abstract intelligent agents (AIA) to distinguish them from their real-world implementations. \\nAn autonomous intelligent agent is designed to function in the absence of human intervention. Intelligent agents are also closely related to software agents. An autonomous computer program that carries out tasks on behalf of users.\\n\\n\\n== As a definition of artificial intelligence ==\\nArtificial Intelligence: A Modern Approach defines an \"agent\" as \\n\\n\"Anything that can be viewed as perceiving its environment through sensors and acting upon that environment through actuators\"\\nIt defines a \"rational agent\" as:\\n\\n\"An agent that acts so as to maximize the expected value of a performance measure based on past experience and knowledge.\"\\nIt also defines the field of \"artificial intelligence research\" as:\\n\\n\"The study and design of rational agents\"\\nPadgham & Winikoff (2005) agree that an intelligent agent is situated in an environment and responds in a timely (though not necessarily real-time) manner to changes in the environment. However, intelligent agents must also proactively pursue goals in a flexible and robust way. Optional desiderata include that the agent be rational, and that the agent be capable of belief-desire-intention analysis.\\nKaplan and Haenlein define artificial intelligence as \"a system\\'s ability to correctly interpret external data, to learn from such data, and to use those learnings to achieve specific goals and tasks through flexible adaptation\". This definition is closely related to that of an intelligent agent.\\n\\n\\n=== Advantages ===\\n\\nPhilosophically, this definition of artificial intelligence avoids several lines of criticism. Unlike the Turing test, it does not refer to human intelligence in any way. Thus, there is no need to discuss if it is \"real\" vs \"simulated\" intelligence (i.e., \"synthetic\" vs \"artificial\" intelligence) and does not indicate that such a machine has a mind, consciousness or true understanding. It seems not to imply John Searle\\'s \"strong AI hypothesis\". It also doesn\\'t attempt to draw a sharp dividing line between behaviors that are \"intelligent\" and behavi')]"
      ]
     },
     "execution_count": 23,
     "metadata": {},
     "output_type": "execute_result"
    }
   ],
   "source": [
    "loaded_data"
   ]
  },
  {
   "cell_type": "code",
   "execution_count": 24,
   "metadata": {},
   "outputs": [],
   "source": [
    "from langchain_core.prompts import ChatPromptTemplate\n",
    "\n",
    "chat_template = ChatPromptTemplate.from_messages(\n",
    "    [\n",
    "        (\"human\", \"Answer this {question}, here is some extra {context}\"),\n",
    "    ]\n",
    ")\n",
    "\n",
    "messages = chat_template.format_messages(\n",
    "    name=\"\",\n",
    "    question=\"Tell me about Agentic AI\",\n",
    "    context=loaded_data\n",
    ")"
   ]
  },
  {
   "cell_type": "code",
   "execution_count": 26,
   "metadata": {},
   "outputs": [],
   "source": [
    "response = llm2.invoke(messages)"
   ]
  },
  {
   "cell_type": "code",
   "execution_count": 28,
   "metadata": {},
   "outputs": [],
   "source": [
    "response1 = llm1.invoke(messages)"
   ]
  },
  {
   "cell_type": "code",
   "execution_count": 27,
   "metadata": {},
   "outputs": [
    {
     "name": "stdout",
     "output_type": "stream",
     "text": [
      "content='Okay, here\\'s a breakdown of Agentic AI based on the provided document:\\n\\n**What is Agentic AI?**\\n\\n*   **Building on Intelligent Agents:** Agentic AI is a *subset* of intelligent agents. Intelligent agents, broadly, are systems that:\\n    *   Perceive their environment.\\n    *   Take actions autonomously.\\n    *   Aim to achieve specific goals.\\n    *   May improve their performance through learning or acquiring knowledge.\\n\\n*   **Enhanced Autonomy and Duration:** Agentic AI takes this a step further. It\\'s characterized by the ability to:\\n    *   **Autonomously pursue goals:** It doesn\\'t just react; it actively works towards objectives.\\n    *   **Make decisions:** It can evaluate situations and choose appropriate actions.\\n    *   **Act over extended periods:** It\\'s not just a short-lived process; it can maintain its goal-oriented behavior over time.\\n    *   **Embody digital agency:** This signifies a form of independent action and decision-making within the digital realm.\\n\\n**Key Characteristics of Intelligent Agents (and thus, Agentic AI):**\\n\\n*   **Goal-Oriented:**  The core of an intelligent agent is its focus on achieving specific goals. These goals are defined by an \"objective function.\"\\n*   **Rationality:**  Often, intelligent agents are designed to act \"rationally,\" meaning they aim to maximize the expected value of their objective function.\\n*   **Learning and Adaptation:** They can improve their performance over time by learning from experience and acquiring new knowledge.\\n*   **Autonomy:** They can function without direct human intervention.\\n*   **Perception and Action:** They perceive their environment through sensors and act upon it through actuators.\\n*   **Abstract and Real-World:** Intelligent agents can be described abstractly (as an AIA) or implemented in real-world systems.\\n*   **Examples:** The document mentions a wide range of examples, from simple thermostats to human beings to firms and even biomes. This highlights that the concept is applicable to different levels of complexity.\\n\\n**How is AI Defined in relation to Intelligent Agents?**\\n\\n*   The field of Artificial Intelligence is defined by some as the \"study and design of intelligent agents.\" This definition emphasizes goal-directed behavior as the essence of intelligence.\\n*   \"Rational agent\" is another term used to describe goal-directed agents.\\n\\n**Objective Function and How it is Shaped:**\\n\\n*   An agent has an \"objective function\" that encapsulates all the IA\\'s goals. The agent aims to maximize the expected value of this function through its actions.\\n*   The behavior of an IA is often shaped by a function:\\n    *   **Reinforcement learning** uses a \"reward function.\"\\n    *   **Evolutionary algorithms** use a \"fitness function.\"\\n\\n**Advantages of Defining AI This Way:**\\n\\n*   **Avoids Anthropomorphism:** It doesn\\'t rely on comparisons to human intelligence, bypassing debates about \"real\" vs. \"simulated\" intelligence.\\n*   **Focuses on Functionality:** It emphasizes the ability of systems to perceive, act, and achieve goals rather than attempting to define \"consciousness\" or \"understanding.\"\\n\\n**In summary, Agentic AI represents a more advanced form of intelligent agent that has the ability to pursue goals, make decisions, and take actions autonomously over extended periods. It embodies a novel form of digital agency.**' additional_kwargs={} response_metadata={'prompt_feedback': {'block_reason': 0, 'safety_ratings': []}, 'finish_reason': 'STOP', 'safety_ratings': [{'category': 'HARM_CATEGORY_HATE_SPEECH', 'probability': 'NEGLIGIBLE', 'blocked': False}, {'category': 'HARM_CATEGORY_DANGEROUS_CONTENT', 'probability': 'NEGLIGIBLE', 'blocked': False}, {'category': 'HARM_CATEGORY_HARASSMENT', 'probability': 'NEGLIGIBLE', 'blocked': False}, {'category': 'HARM_CATEGORY_SEXUALLY_EXPLICIT', 'probability': 'NEGLIGIBLE', 'blocked': False}]} id='run-194d3e53-423a-44ab-af88-79f61d824066-0' usage_metadata={'input_tokens': 1259, 'output_tokens': 720, 'total_tokens': 1979, 'input_token_details': {'cache_read': 0}}\n"
     ]
    }
   ],
   "source": [
    "print(response)"
   ]
  },
  {
   "cell_type": "code",
   "execution_count": 29,
   "metadata": {},
   "outputs": [
    {
     "name": "stdout",
     "output_type": "stream",
     "text": [
      "Agentic AI is a subset of intelligent agents (IAs).  While IAs generally perceive their environment, act autonomously to achieve goals, and learn from experience, Agentic AI distinguishes itself by its extended autonomy.  It pursues goals, makes decisions, and takes actions independently over long periods, essentially exhibiting a novel form of digital agency.  This means it's not just reacting to immediate stimuli, but proactively shaping its own actions and trajectory towards its objectives.  The key difference lies in the *duration* and *proactive nature* of its agency.  A simple thermostat (an IA) reacts to temperature changes, while an Agentic AI might autonomously manage an entire building's energy consumption over weeks or months, adapting to changing conditions and optimizing its performance based on its learned experiences.\n",
      "\n"
     ]
    }
   ],
   "source": [
    "print(response1)"
   ]
  }
 ],
 "metadata": {
  "kernelspec": {
   "display_name": "base",
   "language": "python",
   "name": "python3"
  },
  "language_info": {
   "codemirror_mode": {
    "name": "ipython",
    "version": 3
   },
   "file_extension": ".py",
   "mimetype": "text/x-python",
   "name": "python",
   "nbconvert_exporter": "python",
   "pygments_lexer": "ipython3",
   "version": "3.12.3"
  }
 },
 "nbformat": 4,
 "nbformat_minor": 2
}
